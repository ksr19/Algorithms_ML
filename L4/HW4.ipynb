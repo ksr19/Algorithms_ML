{
 "cells": [
  {
   "cell_type": "markdown",
   "metadata": {},
   "source": [
    "# Урок 4. Деревья решений"
   ]
  },
  {
   "cell_type": "markdown",
   "metadata": {},
   "source": [
    "Функции и расчеты с лекции:"
   ]
  },
  {
   "cell_type": "code",
   "execution_count": 1,
   "metadata": {},
   "outputs": [],
   "source": [
    "import matplotlib.pyplot as plt\n",
    "import random\n",
    "\n",
    "from matplotlib.colors import ListedColormap\n",
    "from sklearn.datasets import make_classification, make_circles, make_regression\n",
    "from sklearn.tree import DecisionTreeClassifier, DecisionTreeRegressor, plot_tree\n",
    "from sklearn.metrics import accuracy_score, r2_score\n",
    "\n",
    "import numpy as np\n",
    "import pandas as pd\n",
    "\n",
    "import warnings\n",
    "warnings.filterwarnings('ignore')"
   ]
  },
  {
   "cell_type": "code",
   "execution_count": 2,
   "metadata": {},
   "outputs": [],
   "source": [
    "# сгенерируем данные\n",
    "classification_data, classification_labels = make_classification(n_features=2, n_informative=2, \n",
    "                                                                 n_classes=2, n_redundant=0,\n",
    "                                                                 n_clusters_per_class=1, random_state=5)\n",
    "# classification_data, classification_labels = make_circles(n_samples=50, random_state=5)"
   ]
  },
  {
   "cell_type": "code",
   "execution_count": 3,
   "metadata": {},
   "outputs": [
    {
     "data": {
      "image/png": "[encoded data removed]",
      "text/plain": [
       "<Figure size 576x576 with 1 Axes>"
      ]
     },
     "metadata": {
      "needs_background": "light"
     },
     "output_type": "display_data"
    }
   ],
   "source": [
    "# визуализируем сгенерированные данные\n",
    "\n",
    "colors = ListedColormap(['red', 'blue'])\n",
    "light_colors = ListedColormap(['lightcoral', 'lightblue'])\n",
    "\n",
    "plt.figure(figsize=(8,8))\n",
    "plt.scatter(list(map(lambda x: x[0], classification_data)), list(map(lambda x: x[1], classification_data)), \n",
    "              c=classification_labels, cmap=colors);"
   ]
  },
  {
   "cell_type": "code",
   "execution_count": 4,
   "metadata": {},
   "outputs": [],
   "source": [
    "# Реализуем класс узла\n",
    "\n",
    "class Node:\n",
    "    \n",
    "    def __init__(self, index, t, true_branch, false_branch):\n",
    "        self.index = index  # индекс признака, по которому ведется сравнение с порогом в этом узле\n",
    "        self.t = t  # значение порога\n",
    "        self.true_branch = true_branch  # поддерево, удовлетворяющее условию в узле\n",
    "        self.false_branch = false_branch  # поддерево, не удовлетворяющее условию в узле"
   ]
  },
  {
   "cell_type": "code",
   "execution_count": 5,
   "metadata": {},
   "outputs": [],
   "source": [
    "# И класс терминального узла (листа)\n",
    "\n",
    "class Leaf:\n",
    "    \n",
    "    def __init__(self, data, labels):\n",
    "        self.data = data\n",
    "        self.labels = labels\n",
    "        self.prediction = self.predict()\n",
    "        \n",
    "    def predict(self):\n",
    "        # подсчет количества объектов разных классов\n",
    "        classes = {}  # сформируем словарь \"класс: количество объектов\"\n",
    "        for label in self.labels:\n",
    "            if label not in classes:\n",
    "                classes[label] = 0\n",
    "            classes[label] += 1\n",
    "            \n",
    "        # найдем класс, количество объектов которого будет максимальным в этом листе и вернем его    \n",
    "        prediction = max(classes, key=classes.get)\n",
    "        return prediction        "
   ]
  },
  {
   "cell_type": "code",
   "execution_count": 6,
   "metadata": {},
   "outputs": [],
   "source": [
    "# Расчет критерия Джини\n",
    "\n",
    "def gini(labels):\n",
    "    #  подсчет количества объектов разных классов\n",
    "    classes = {}\n",
    "    for label in labels:\n",
    "        if label not in classes:\n",
    "            classes[label] = 0\n",
    "        classes[label] += 1\n",
    "    \n",
    "    #  расчет критерия\n",
    "    impurity = 1\n",
    "    for label in classes:\n",
    "        p = classes[label] / len(labels)\n",
    "        impurity -= p ** 2\n",
    "        \n",
    "    return impurity"
   ]
  },
  {
   "cell_type": "code",
   "execution_count": 7,
   "metadata": {},
   "outputs": [],
   "source": [
    "# Расчет прироста\n",
    "\n",
    "def gain(left_labels, right_labels, root_gini):\n",
    "\n",
    "    # доля выборки, ушедшая в левое поддерево\n",
    "    p = float(left_labels.shape[0]) / (left_labels.shape[0] + right_labels.shape[0])\n",
    "    \n",
    "    return root_gini - p * gini(left_labels) - (1 - p) * gini(right_labels)"
   ]
  },
  {
   "cell_type": "code",
   "execution_count": 8,
   "metadata": {},
   "outputs": [],
   "source": [
    "# Разбиение датасета в узле\n",
    "\n",
    "def split(data, labels, column_index, t):\n",
    "    \n",
    "    left = np.where(data[:, column_index] <= t)\n",
    "    right = np.where(data[:, column_index] > t)\n",
    "        \n",
    "    true_data = data[left]\n",
    "    false_data = data[right]\n",
    "    \n",
    "    true_labels = labels[left]\n",
    "    false_labels = labels[right]\n",
    "        \n",
    "    return true_data, false_data, true_labels, false_labels"
   ]
  },
  {
   "cell_type": "code",
   "execution_count": 9,
   "metadata": {},
   "outputs": [],
   "source": [
    "# Нахождение наилучшего разбиения\n",
    "\n",
    "def find_best_split(data, labels):\n",
    "    \n",
    "    #  обозначим минимальное количество объектов в узле\n",
    "    min_samples_leaf = 5\n",
    "\n",
    "    root_gini = gini(labels)\n",
    "\n",
    "    best_gain = 0\n",
    "    best_t = None\n",
    "    best_index = None\n",
    "    \n",
    "    n_features = data.shape[1]\n",
    "    \n",
    "    for index in range(n_features):\n",
    "        # будем проверять только уникальные значения признака, исключая повторения\n",
    "        t_values = np.unique(data[:, index])\n",
    "        \n",
    "        for t in t_values:\n",
    "            true_data, false_data, true_labels, false_labels = split(data, labels, index, t)\n",
    "            #  пропускаем разбиения, в которых в узле остается менее 5 объектов\n",
    "            if len(true_data) < min_samples_leaf or len(false_data) < min_samples_leaf:\n",
    "                continue\n",
    "            \n",
    "            current_gain = gain(true_labels, false_labels, root_gini)\n",
    "            \n",
    "            #  выбираем порог, на котором получается максимальный прирост качества\n",
    "            if current_gain > best_gain:\n",
    "                best_gain, best_t, best_index = current_gain, t, index\n",
    "\n",
    "    return best_gain, best_t, best_index"
   ]
  },
  {
   "cell_type": "code",
   "execution_count": 10,
   "metadata": {},
   "outputs": [],
   "source": [
    "# Построение дерева с помощью рекурсивной функции\n",
    "\n",
    "def build_tree(data, labels):\n",
    "\n",
    "    gain, t, index = find_best_split(data, labels)\n",
    "\n",
    "    #  Базовый случай - прекращаем рекурсию, когда нет прироста в качества\n",
    "    if gain == 0:\n",
    "        return Leaf(data, labels)\n",
    "\n",
    "    true_data, false_data, true_labels, false_labels = split(data, labels, index, t)\n",
    "\n",
    "    # Рекурсивно строим два поддерева\n",
    "    true_branch = build_tree(true_data, true_labels)\n",
    "    import time\n",
    "    print(time.time(), true_branch)\n",
    "    false_branch = build_tree(false_data, false_labels)\n",
    "    \n",
    "    print(time.time(), false_branch)\n",
    "    \n",
    "    # Возвращаем класс узла со всеми поддеревьями, то есть целого дерева\n",
    "    return Node(index, t, true_branch, false_branch)"
   ]
  },
  {
   "cell_type": "code",
   "execution_count": 11,
   "metadata": {},
   "outputs": [],
   "source": [
    "def classify_object(obj, node):\n",
    "\n",
    "    #  Останавливаем рекурсию, если достигли листа\n",
    "    if isinstance(node, Leaf):\n",
    "        answer = node.prediction\n",
    "        return answer\n",
    "\n",
    "    if obj[node.index] <= node.t:\n",
    "        return classify_object(obj, node.true_branch)\n",
    "    else:\n",
    "        return classify_object(obj, node.false_branch)"
   ]
  },
  {
   "cell_type": "code",
   "execution_count": 12,
   "metadata": {},
   "outputs": [],
   "source": [
    "def predict(data, tree):\n",
    "    \n",
    "    classes = []\n",
    "    for obj in data:\n",
    "        prediction = classify_object(obj, tree)\n",
    "        classes.append(prediction)\n",
    "    return classes"
   ]
  },
  {
   "cell_type": "code",
   "execution_count": 13,
   "metadata": {},
   "outputs": [],
   "source": [
    "# Разобьем выборку на обучающую и тестовую\n",
    "\n",
    "from sklearn.model_selection import train_test_split\n",
    "\n",
    "train_data, test_data, train_labels, test_labels = train_test_split(classification_data, \n",
    "                                                                    classification_labels, \n",
    "                                                                    test_size=0.3,\n",
    "                                                                    random_state=1)"
   ]
  },
  {
   "cell_type": "code",
   "execution_count": 14,
   "metadata": {},
   "outputs": [
    {
     "name": "stdout",
     "output_type": "stream",
     "text": [
      "1634983027.933443 <__main__.Leaf object at 0x11c5ec820>\n",
      "1634983027.938427 <__main__.Leaf object at 0x11c6021c0>\n",
      "1634983027.9388092 <__main__.Node object at 0x11c5ec940>\n",
      "1634983027.940924 <__main__.Leaf object at 0x11c5ec7f0>\n",
      "1634983027.9411042 <__main__.Node object at 0x11c6027f0>\n",
      "1634983027.9463549 <__main__.Leaf object at 0x11c5eccd0>\n"
     ]
    }
   ],
   "source": [
    "# Построим дерево по обучающей выборке\n",
    "my_tree = build_tree(train_data, train_labels)"
   ]
  },
  {
   "cell_type": "code",
   "execution_count": 15,
   "metadata": {
    "scrolled": false
   },
   "outputs": [
    {
     "name": "stdout",
     "output_type": "stream",
     "text": [
      "Индекс 0 <= 0.16261402870113306\n",
      "--> True:\n",
      "  Индекс 1 <= -1.5208896621663803\n",
      "  --> True:\n",
      "    Индекс 0 <= -0.9478301462477035\n",
      "    --> True:\n",
      "      Прогноз: 0\n",
      "    --> False:\n",
      "      Прогноз: 1\n",
      "  --> False:\n",
      "    Прогноз: 0\n",
      "--> False:\n",
      "  Прогноз: 1\n"
     ]
    }
   ],
   "source": [
    "# Напечатаем ход нашего дерева\n",
    "def print_tree(node, spacing=\"\"):\n",
    "\n",
    "    # Если лист, то выводим его прогноз\n",
    "    if isinstance(node, Leaf):\n",
    "        print(spacing + \"Прогноз:\", node.prediction)\n",
    "        return\n",
    "\n",
    "    # Выведем значение индекса и порога на этом узле\n",
    "    print(spacing + 'Индекс', str(node.index), '<=', str(node.t))\n",
    "\n",
    "    # Рекурсионный вызов функции на положительном поддереве\n",
    "    print (spacing + '--> True:')\n",
    "    print_tree(node.true_branch, spacing + \"  \")\n",
    "\n",
    "    # Рекурсионный вызов функции на отрицательном поддереве\n",
    "    print (spacing + '--> False:')\n",
    "    print_tree(node.false_branch, spacing + \"  \")\n",
    "    \n",
    "print_tree(my_tree)"
   ]
  },
  {
   "cell_type": "code",
   "execution_count": 16,
   "metadata": {},
   "outputs": [],
   "source": [
    "# Получим ответы для обучающей выборки \n",
    "train_answers = predict(train_data, my_tree)\n",
    "# И получим ответы для тестовой выборки\n",
    "answers = predict(test_data, my_tree)"
   ]
  },
  {
   "cell_type": "code",
   "execution_count": 17,
   "metadata": {},
   "outputs": [],
   "source": [
    "# Введем функцию подсчета точности как доли правильных ответов\n",
    "def accuracy_metric(actual, predicted):\n",
    "    correct = 0\n",
    "    for i in range(len(actual)):\n",
    "        if actual[i] == predicted[i]:\n",
    "            correct += 1\n",
    "    return correct / float(len(actual)) * 100.0"
   ]
  },
  {
   "cell_type": "code",
   "execution_count": 18,
   "metadata": {},
   "outputs": [
    {
     "data": {
      "text/plain": [
       "98.57142857142858"
      ]
     },
     "execution_count": 18,
     "metadata": {},
     "output_type": "execute_result"
    }
   ],
   "source": [
    "# Точность на обучающей выборке\n",
    "train_accuracy = accuracy_metric(train_labels, train_answers)\n",
    "train_accuracy"
   ]
  },
  {
   "cell_type": "code",
   "execution_count": 19,
   "metadata": {},
   "outputs": [
    {
     "data": {
      "text/plain": [
       "100.0"
      ]
     },
     "execution_count": 19,
     "metadata": {},
     "output_type": "execute_result"
    }
   ],
   "source": [
    "# Точность на тестовой выборке\n",
    "test_accuracy = accuracy_metric(test_labels, answers)\n",
    "test_accuracy"
   ]
  },
  {
   "cell_type": "code",
   "execution_count": 20,
   "metadata": {},
   "outputs": [],
   "source": [
    "# Визуализируем дерево на графике\n",
    "\n",
    "def get_meshgrid(data, step=.05, border=1.2):\n",
    "    x_min, x_max = data[:, 0].min() - border, data[:, 0].max() + border\n",
    "    y_min, y_max = data[:, 1].min() - border, data[:, 1].max() + border\n",
    "    return np.meshgrid(np.arange(x_min, x_max, step), np.arange(y_min, y_max, step))\n",
    "\n",
    "\n",
    "def visualize(train_data, test_data):\n",
    "    plt.figure(figsize = (16, 7))\n",
    "\n",
    "    # график обучающей выборки\n",
    "    plt.subplot(1,2,1)\n",
    "    xx, yy = get_meshgrid(train_data)\n",
    "    mesh_predictions = np.array(predict(np.c_[xx.ravel(), yy.ravel()], my_tree)).reshape(xx.shape)\n",
    "    plt.pcolormesh(xx, yy, mesh_predictions, cmap = light_colors)\n",
    "    plt.scatter(train_data[:, 0], train_data[:, 1], c = train_labels, cmap = colors)\n",
    "    plt.title(f'Train accuracy={train_accuracy:.2f}')\n",
    "\n",
    "    # график тестовой выборки\n",
    "    plt.subplot(1,2,2)\n",
    "    plt.pcolormesh(xx, yy, mesh_predictions, cmap = light_colors)\n",
    "    plt.scatter(test_data[:, 0], test_data[:, 1], c = test_labels, cmap = colors)\n",
    "    plt.title(f'Test accuracy={test_accuracy:.2f}')"
   ]
  },
  {
   "cell_type": "code",
   "execution_count": 21,
   "metadata": {},
   "outputs": [
    {
     "data": {
      "image/png": "[encoded data removed]",
      "text/plain": [
       "<Figure size 1152x504 with 2 Axes>"
      ]
     },
     "metadata": {
      "needs_background": "light"
     },
     "output_type": "display_data"
    }
   ],
   "source": [
    "visualize(train_data, test_data)"
   ]
  },
  {
   "cell_type": "markdown",
   "metadata": {},
   "source": [
    "# Домашнее задание"
   ]
  },
  {
   "cell_type": "markdown",
   "metadata": {},
   "source": [
    "1. В коде из методички реализуйте один или несколько из критериев останова (количество листьев, количество используемых признаков, глубина дерева и т.д.)"
   ]
  },
  {
   "cell_type": "markdown",
   "metadata": {},
   "source": [
    "Реализуем критерий останова, ограничивающий максимальную глубину дерева."
   ]
  },
  {
   "cell_type": "markdown",
   "metadata": {},
   "source": [
    "Во-первых, удалим в функции `find_best_split` строки, касающиеся минимального количества объектов в узле, в остальном оставляем ее без изменений."
   ]
  },
  {
   "cell_type": "code",
   "execution_count": 22,
   "metadata": {},
   "outputs": [],
   "source": [
    "# Нахождение наилучшего разбиения\n",
    "\n",
    "def find_best_split(data, labels):\n",
    "\n",
    "\n",
    "    root_gini = gini(labels)\n",
    "\n",
    "    best_gain = 0\n",
    "    best_t = None\n",
    "    best_index = None\n",
    "    \n",
    "    n_features = data.shape[1]\n",
    "    \n",
    "    for index in range(n_features):\n",
    "        # будем проверять только уникальные значения признака, исключая повторения\n",
    "        t_values = np.unique(data[:, index])\n",
    "        \n",
    "        for t in t_values:\n",
    "            true_data, false_data, true_labels, false_labels = split(data, labels, index, t)\n",
    "            \n",
    "            current_gain = gain(true_labels, false_labels, root_gini)\n",
    "            \n",
    "            #  выбираем порог, на котором получается максимальный прирост качества\n",
    "            if current_gain > best_gain:\n",
    "                best_gain, best_t, best_index = current_gain, t, index\n",
    "\n",
    "    return best_gain, best_t, best_index"
   ]
  },
  {
   "cell_type": "markdown",
   "metadata": {},
   "source": [
    "Во-вторых, изменим функцию, отвечающую за построение дерева. Добавим параметр `max_depth`, который задает максимально возможную глубину дерева. Пропишем дополнительное условие остановки построения дерева, когда мы достигли разрешенной глубины."
   ]
  },
  {
   "cell_type": "code",
   "execution_count": 23,
   "metadata": {},
   "outputs": [],
   "source": [
    "# Построение дерева с помощью рекурсивной функции\n",
    "\n",
    "def build_tree(data, labels, max_depth=3):\n",
    "\n",
    "    gain, t, index = find_best_split(data, labels)\n",
    "\n",
    "    #  Базовый случай - прекращаем рекурсию, когда нет прироста в качества, или же мы достигли максимальной глубины\n",
    "    if (gain == 0) or (max_depth == 0):\n",
    "        return Leaf(data, labels)\n",
    "\n",
    "    true_data, false_data, true_labels, false_labels = split(data, labels, index, t)\n",
    "\n",
    "    # Рекурсивно строим два поддерева, уменьшаем параметр max_depth на 1\n",
    "    true_branch = build_tree(true_data, true_labels, max_depth=max_depth-1)\n",
    "    import time\n",
    "    print(time.time(), true_branch)\n",
    "    false_branch = build_tree(false_data, false_labels, max_depth=max_depth-1)\n",
    "    \n",
    "    print(time.time(), false_branch)\n",
    "    \n",
    "    # Возвращаем класс узла со всеми поддеревьями, то есть целого дерева\n",
    "    return Node(index, t, true_branch, false_branch)"
   ]
  },
  {
   "cell_type": "code",
   "execution_count": 24,
   "metadata": {},
   "outputs": [
    {
     "name": "stdout",
     "output_type": "stream",
     "text": [
      "1634983028.936946 <__main__.Leaf object at 0x11c622220>\n",
      "1634983028.937535 <__main__.Leaf object at 0x11c6ada00>\n",
      "1634983028.9375901 <__main__.Node object at 0x11c6b4be0>\n",
      "1634983028.943882 <__main__.Leaf object at 0x11c6ad970>\n",
      "1634983028.951964 <__main__.Node object at 0x11c6ad880>\n",
      "1634983028.973383 <__main__.Leaf object at 0x11c6ad460>\n"
     ]
    }
   ],
   "source": [
    "# Построим дерево по обучающей выборке\n",
    "my_tree = build_tree(train_data, train_labels)"
   ]
  },
  {
   "cell_type": "code",
   "execution_count": 25,
   "metadata": {
    "scrolled": false
   },
   "outputs": [
    {
     "name": "stdout",
     "output_type": "stream",
     "text": [
      "Индекс 0 <= 0.16261402870113306\n",
      "--> True:\n",
      "  Индекс 1 <= -1.5208896621663803\n",
      "  --> True:\n",
      "    Индекс 0 <= -0.9478301462477035\n",
      "    --> True:\n",
      "      Прогноз: 0\n",
      "    --> False:\n",
      "      Прогноз: 1\n",
      "  --> False:\n",
      "    Прогноз: 0\n",
      "--> False:\n",
      "  Прогноз: 1\n"
     ]
    }
   ],
   "source": [
    "# Напечатаем ход нашего дерева\n",
    "def print_tree(node, spacing=\"\"):\n",
    "\n",
    "    # Если лист, то выводим его прогноз\n",
    "    if isinstance(node, Leaf):\n",
    "        print(spacing + \"Прогноз:\", node.prediction)\n",
    "        return\n",
    "\n",
    "    # Выведем значение индекса и порога на этом узле\n",
    "    print(spacing + 'Индекс', str(node.index), '<=', str(node.t))\n",
    "\n",
    "    # Рекурсионный вызов функции на положительном поддереве\n",
    "    print (spacing + '--> True:')\n",
    "    print_tree(node.true_branch, spacing + \"  \")\n",
    "\n",
    "    # Рекурсионный вызов функции на отрицательном поддереве\n",
    "    print (spacing + '--> False:')\n",
    "    print_tree(node.false_branch, spacing + \"  \")\n",
    "    \n",
    "print_tree(my_tree)"
   ]
  },
  {
   "cell_type": "code",
   "execution_count": 26,
   "metadata": {},
   "outputs": [],
   "source": [
    "# Получим ответы для обучающей выборки \n",
    "train_answers = predict(train_data, my_tree)\n",
    "# И получим ответы для тестовой выборки\n",
    "answers = predict(test_data, my_tree)"
   ]
  },
  {
   "cell_type": "code",
   "execution_count": 27,
   "metadata": {},
   "outputs": [],
   "source": [
    "# Введем функцию подсчета точности как доли правильных ответов\n",
    "def accuracy_metric(actual, predicted):\n",
    "    correct = 0\n",
    "    for i in range(len(actual)):\n",
    "        if actual[i] == predicted[i]:\n",
    "            correct += 1\n",
    "    return correct / float(len(actual)) * 100.0"
   ]
  },
  {
   "cell_type": "code",
   "execution_count": 28,
   "metadata": {},
   "outputs": [
    {
     "data": {
      "text/plain": [
       "98.57142857142858"
      ]
     },
     "execution_count": 28,
     "metadata": {},
     "output_type": "execute_result"
    }
   ],
   "source": [
    "# Точность на обучающей выборке\n",
    "train_accuracy = accuracy_metric(train_labels, train_answers)\n",
    "train_accuracy"
   ]
  },
  {
   "cell_type": "code",
   "execution_count": 29,
   "metadata": {},
   "outputs": [
    {
     "data": {
      "text/plain": [
       "100.0"
      ]
     },
     "execution_count": 29,
     "metadata": {},
     "output_type": "execute_result"
    }
   ],
   "source": [
    "# Точность на тестовой выборке\n",
    "test_accuracy = accuracy_metric(test_labels, answers)\n",
    "test_accuracy"
   ]
  },
  {
   "cell_type": "code",
   "execution_count": 30,
   "metadata": {
    "scrolled": false
   },
   "outputs": [
    {
     "data": {
      "image/png": "[encoded data removed]",
      "text/plain": [
       "<Figure size 1152x504 with 2 Axes>"
      ]
     },
     "metadata": {
      "needs_background": "light"
     },
     "output_type": "display_data"
    }
   ],
   "source": [
    "visualize(train_data, test_data)"
   ]
  },
  {
   "cell_type": "markdown",
   "metadata": {},
   "source": [
    "2. *Реализуйте дерево для задачи регрессии. Возьмите за основу дерево, реализованное в методичке, заменив механизм предсказания в листе на взятие среднего значения по выборке, и критерий Джини на дисперсию значений."
   ]
  },
  {
   "cell_type": "markdown",
   "metadata": {},
   "source": [
    "Модифицируем некоторые функции, чтобы построенную модель дерева можно было использовать для решения задач регрессии. Прежде всего заменим механизм предсказания в классе `Leaf`. Класс `Node` оставим без изменения."
   ]
  },
  {
   "cell_type": "code",
   "execution_count": 31,
   "metadata": {},
   "outputs": [],
   "source": [
    "# Реализуем класс узла\n",
    "\n",
    "class Node:\n",
    "    \n",
    "    def __init__(self, index, t, true_branch, false_branch):\n",
    "        self.index = index  # индекс признака, по которому ведется сравнение с порогом в этом узле\n",
    "        self.t = t  # значение порога\n",
    "        self.true_branch = true_branch  # поддерево, удовлетворяющее условию в узле\n",
    "        self.false_branch = false_branch  # поддерево, не удовлетворяющее условию в узле"
   ]
  },
  {
   "cell_type": "code",
   "execution_count": 32,
   "metadata": {},
   "outputs": [],
   "source": [
    "# И класс терминального узла (листа)\n",
    "\n",
    "class Leaf:\n",
    "    \n",
    "    def __init__(self, data, values):\n",
    "        self.data = data\n",
    "        self.values = values\n",
    "        self.prediction = self.predict()\n",
    "        \n",
    "    def predict(self):\n",
    "        # Рассчитываем среднее значение\n",
    "        return np.mean(self.values)        "
   ]
  },
  {
   "cell_type": "markdown",
   "metadata": {},
   "source": [
    "Перепишем также функцию, которая отвечает за расчет прироста информации при делении узла, таким образом, что вычисления происходили на основе дисперсии. Функцию, отвечающую за разбиение, не меняем."
   ]
  },
  {
   "cell_type": "code",
   "execution_count": 33,
   "metadata": {},
   "outputs": [],
   "source": [
    "# Расчет прироста\n",
    "\n",
    "def gain(left_values, right_values, root_var):\n",
    "\n",
    "    # доля выборки, ушедшая в левое поддерево\n",
    "    p = float(left_values.shape[0]) / (left_values.shape[0] + right_values.shape[0])\n",
    "    \n",
    "    return root_var - p * np.var(left_values) - (1 - p) * np.var(right_values)"
   ]
  },
  {
   "cell_type": "code",
   "execution_count": 34,
   "metadata": {},
   "outputs": [],
   "source": [
    "# Разбиение датасета в узле\n",
    "\n",
    "def split(data, values, column_index, t):\n",
    "    \n",
    "    left = np.where(data[:, column_index] <= t)\n",
    "    right = np.where(data[:, column_index] > t)\n",
    "        \n",
    "    true_data = data[left]\n",
    "    false_data = data[right]\n",
    "    \n",
    "    true_values = values[left]\n",
    "    false_values = values[right]\n",
    "        \n",
    "    return true_data, false_data, true_values, false_values"
   ]
  },
  {
   "cell_type": "markdown",
   "metadata": {},
   "source": [
    "Изменим еще строчку в функции, которая ищет наилучшее разбиение, чтобы она также учитывала дисперсию значений, а не коэффициент Джини."
   ]
  },
  {
   "cell_type": "code",
   "execution_count": 35,
   "metadata": {},
   "outputs": [],
   "source": [
    "# Нахождение наилучшего разбиения\n",
    "\n",
    "def find_best_split(data, values):\n",
    "    \n",
    "    #  обозначим минимальное количество объектов в узле\n",
    "    min_samples_leaf = 5\n",
    "\n",
    "    # В начальном узле, который будем делить, считаем дисперсию\n",
    "    root_var = np.var(values)\n",
    "\n",
    "    best_gain = 0\n",
    "    best_t = None\n",
    "    best_index = None\n",
    "    \n",
    "    n_features = data.shape[1]\n",
    "    \n",
    "    for index in range(n_features):\n",
    "        # будем проверять только уникальные значения признака, исключая повторения\n",
    "        t_data = np.unique(data[:, index])\n",
    "        \n",
    "        for t in t_data:\n",
    "            true_data, false_data, true_values, false_values = split(data, values, index, t)\n",
    "            #  пропускаем разбиения, в которых в узле остается менее 5 объектов\n",
    "            if len(true_data) < min_samples_leaf or len(false_data) < min_samples_leaf:\n",
    "                continue\n",
    "            \n",
    "            current_gain = gain(true_values, false_values, root_var)\n",
    "            \n",
    "            #  выбираем порог, на котором получается максимальный прирост качества\n",
    "            if current_gain > best_gain:\n",
    "                best_gain, best_t, best_index = current_gain, t, index\n",
    "\n",
    "    return best_gain, best_t, best_index"
   ]
  },
  {
   "cell_type": "markdown",
   "metadata": {},
   "source": [
    "Остальные функции можно оставить без изменений."
   ]
  },
  {
   "cell_type": "code",
   "execution_count": 36,
   "metadata": {},
   "outputs": [],
   "source": [
    "# Построение дерева с помощью рекурсивной функции\n",
    "\n",
    "def build_tree(data, values):\n",
    "\n",
    "    gain, t, index = find_best_split(data, values)\n",
    "\n",
    "    #  Базовый случай - прекращаем рекурсию, когда нет прироста в качества\n",
    "    if gain == 0:\n",
    "        return Leaf(data, values)\n",
    "\n",
    "    true_data, false_data, true_values, false_values = split(data, values, index, t)\n",
    "\n",
    "    # Рекурсивно строим два поддерева\n",
    "    true_branch = build_tree(true_data, true_values)\n",
    "    import time\n",
    "    print(time.time(), true_branch)\n",
    "    false_branch = build_tree(false_data, false_values)\n",
    "    \n",
    "    print(time.time(), false_branch)\n",
    "    \n",
    "    # Возвращаем класс узла со всеми поддеревьями, то есть целого дерева\n",
    "    return Node(index, t, true_branch, false_branch)"
   ]
  },
  {
   "cell_type": "code",
   "execution_count": 37,
   "metadata": {},
   "outputs": [],
   "source": [
    "def predict_value(obj, node):\n",
    "\n",
    "    #  Останавливаем рекурсию, если достигли листа\n",
    "    if isinstance(node, Leaf):\n",
    "        answer = node.prediction\n",
    "        return answer\n",
    "\n",
    "    if obj[node.index] <= node.t:\n",
    "        return predict_value(obj, node.true_branch)\n",
    "    else:\n",
    "        return predict_value(obj, node.false_branch)"
   ]
  },
  {
   "cell_type": "code",
   "execution_count": 38,
   "metadata": {},
   "outputs": [],
   "source": [
    "def predict(data, tree):\n",
    "    \n",
    "    values = []\n",
    "    for obj in data:\n",
    "        prediction = predict_value(obj, tree)\n",
    "        values.append(prediction)\n",
    "    return values"
   ]
  },
  {
   "cell_type": "markdown",
   "metadata": {},
   "source": [
    "Теперь проверим работу получившейся модели на сгенерированных данных."
   ]
  },
  {
   "cell_type": "code",
   "execution_count": 39,
   "metadata": {},
   "outputs": [],
   "source": [
    "X, Y, coef = make_regression(n_samples=1000, n_features=2, n_informative=2, n_targets=1, \n",
    "                                      noise=5, coef=True, random_state=1)"
   ]
  },
  {
   "cell_type": "code",
   "execution_count": 40,
   "metadata": {},
   "outputs": [],
   "source": [
    "# Разобьем выборку на обучающую и тестовую\n",
    "\n",
    "from sklearn.model_selection import train_test_split\n",
    "\n",
    "train_data, test_data, train_values, test_values = train_test_split(X, \n",
    "                                                                    Y, \n",
    "                                                                    test_size=0.3,\n",
    "                                                                    random_state=1)"
   ]
  },
  {
   "cell_type": "code",
   "execution_count": 41,
   "metadata": {
    "scrolled": true
   },
   "outputs": [
    {
     "name": "stdout",
     "output_type": "stream",
     "text": [
      "1634983030.520891 <__main__.Leaf object at 0x11c75dfd0>\n",
      "1634983030.5222158 <__main__.Leaf object at 0x11c795cd0>\n",
      "1634983030.527966 <__main__.Node object at 0x11c795fa0>\n",
      "1634983030.539192 <__main__.Leaf object at 0x11c777220>\n",
      "1634983030.546869 <__main__.Leaf object at 0x11c795d90>\n",
      "1634983030.547651 <__main__.Leaf object at 0x11c795fd0>\n",
      "1634983030.5477052 <__main__.Node object at 0x11c7954c0>\n",
      "1634983030.54776 <__main__.Node object at 0x11c795c40>\n",
      "1634983030.5478 <__main__.Node object at 0x11c7a80a0>\n",
      "1634983030.6821141 <__main__.Leaf object at 0x11c7957c0>\n",
      "1634983030.689141 <__main__.Leaf object at 0x11c7955b0>\n",
      "1634983030.6904728 <__main__.Node object at 0x11c795b50>\n",
      "1634983030.6989498 <__main__.Leaf object at 0x11c7955e0>\n",
      "1634983030.70322 <__main__.Leaf object at 0x11c795700>\n",
      "1634983030.7041569 <__main__.Leaf object at 0x11c795910>\n",
      "1634983030.708995 <__main__.Node object at 0x11c795640>\n",
      "1634983030.709322 <__main__.Node object at 0x11c795a00>\n",
      "1634983030.716036 <__main__.Leaf object at 0x11c795c70>\n",
      "1634983030.717815 <__main__.Node object at 0x11c795760>\n",
      "1634983030.717901 <__main__.Node object at 0x11c795460>\n",
      "1634983030.756276 <__main__.Leaf object at 0x11c795e50>\n",
      "1634983030.758858 <__main__.Leaf object at 0x11c795ee0>\n",
      "1634983030.75944 <__main__.Node object at 0x11c7a8370>\n",
      "1634983030.769984 <__main__.Leaf object at 0x11c795550>\n",
      "1634983030.774326 <__main__.Leaf object at 0x11c795d60>\n",
      "1634983030.778451 <__main__.Leaf object at 0x11c7a8220>\n",
      "1634983030.7818959 <__main__.Node object at 0x11c7a8460>\n",
      "1634983030.785197 <__main__.Node object at 0x11c7a8040>\n",
      "1634983030.788804 <__main__.Node object at 0x11c7a8310>\n",
      "1634983030.820211 <__main__.Leaf object at 0x11c7a84c0>\n",
      "1634983030.828455 <__main__.Leaf object at 0x11c7a8190>\n",
      "1634983030.8288388 <__main__.Node object at 0x11c7a8280>\n",
      "1634983030.839652 <__main__.Leaf object at 0x11c7a86d0>\n",
      "1634983030.842775 <__main__.Leaf object at 0x11c7a8760>\n",
      "1634983030.844741 <__main__.Node object at 0x11c7a8670>\n",
      "1634983030.846406 <__main__.Leaf object at 0x11c7a85e0>\n",
      "1634983030.846858 <__main__.Node object at 0x11c7a87f0>\n",
      "1634983030.846904 <__main__.Node object at 0x11c7a8880>\n",
      "1634983030.855099 <__main__.Leaf object at 0x11c7a8a60>\n",
      "1634983030.864314 <__main__.Leaf object at 0x11c7a8a30>\n",
      "1634983030.8751922 <__main__.Node object at 0x11c7a8bb0>\n",
      "1634983030.875663 <__main__.Node object at 0x11c7a8970>\n",
      "1634983030.876223 <__main__.Node object at 0x11c7a8910>\n",
      "1634983030.877434 <__main__.Node object at 0x11c7a88e0>\n",
      "1634983030.877805 <__main__.Node object at 0x11c7a8af0>\n",
      "1634983030.959796 <__main__.Leaf object at 0x11c7a81c0>\n",
      "1634983030.9741251 <__main__.Leaf object at 0x11c7a8850>\n",
      "1634983030.975084 <__main__.Leaf object at 0x11c7a8550>\n",
      "1634983030.984875 <__main__.Node object at 0x11c7a8be0>\n",
      "1634983030.9849448 <__main__.Node object at 0x11c7a85b0>\n",
      "1634983030.9918232 <__main__.Leaf object at 0x11c7a8b50>\n",
      "1634983031.010051 <__main__.Leaf object at 0x11c7a8d30>\n",
      "1634983031.011604 <__main__.Leaf object at 0x11c7a8ca0>\n",
      "1634983031.011851 <__main__.Node object at 0x11c7a8eb0>\n",
      "1634983031.01732 <__main__.Leaf object at 0x11c7a8f10>\n",
      "1634983031.02253 <__main__.Leaf object at 0x11c7a8c70>\n",
      "1634983031.024884 <__main__.Leaf object at 0x11c7a89a0>\n",
      "1634983031.0249338 <__main__.Node object at 0x11c7a8d00>\n",
      "1634983031.024972 <__main__.Node object at 0x11c7a9160>\n",
      "1634983031.025135 <__main__.Node object at 0x11c7a9340>\n",
      "1634983031.0254111 <__main__.Node object at 0x11c7a8ee0>\n",
      "1634983031.02545 <__main__.Node object at 0x11c7a9280>\n",
      "1634983031.048091 <__main__.Leaf object at 0x11c7a8730>\n",
      "1634983031.059205 <__main__.Leaf object at 0x11c7a8580>\n",
      "1634983031.060757 <__main__.Leaf object at 0x11c7a9070>\n",
      "1634983031.061143 <__main__.Node object at 0x11c7a91c0>\n",
      "1634983031.062232 <__main__.Leaf object at 0x11c7a9430>\n",
      "1634983031.063066 <__main__.Leaf object at 0x11c7a8e80>\n",
      "1634983031.063114 <__main__.Node object at 0x11c7a9310>\n",
      "1634983031.063147 <__main__.Node object at 0x11c7a9580>\n",
      "1634983031.063179 <__main__.Node object at 0x11c7a9760>\n",
      "1634983031.068002 <__main__.Leaf object at 0x11c7a8250>\n",
      "1634983031.0685709 <__main__.Leaf object at 0x11c7a98b0>\n",
      "1634983031.068614 <__main__.Node object at 0x11c7a9850>\n",
      "1634983031.069464 <__main__.Leaf object at 0x11c7a8fa0>\n",
      "1634983031.070185 <__main__.Leaf object at 0x11c7a96d0>\n",
      "1634983031.0702422 <__main__.Node object at 0x11c7a9730>\n",
      "1634983031.070288 <__main__.Node object at 0x11c7a94c0>\n",
      "1634983031.070806 <__main__.Leaf object at 0x11c7a9a90>\n",
      "1634983031.07101 <__main__.Node object at 0x11c7a9520>\n",
      "1634983031.071059 <__main__.Node object at 0x11c7a97c0>\n",
      "1634983031.0711071 <__main__.Node object at 0x11c7a9700>\n",
      "1634983031.1295412 <__main__.Leaf object at 0x11c7a9d30>\n",
      "1634983031.133643 <__main__.Leaf object at 0x11c7a9b80>\n",
      "1634983031.134165 <__main__.Node object at 0x11c7a9c10>\n",
      "1634983031.136595 <__main__.Leaf object at 0x11c7a9970>\n",
      "1634983031.142528 <__main__.Leaf object at 0x11c7a9100>\n",
      "1634983031.1442292 <__main__.Node object at 0x11c7a92e0>\n",
      "1634983031.1466072 <__main__.Node object at 0x11c7a9c70>\n",
      "1634983031.149415 <__main__.Leaf object at 0x11c7a9880>\n",
      "1634983031.1524632 <__main__.Leaf object at 0x11c7a9be0>\n",
      "1634983031.1625888 <__main__.Leaf object at 0x11c7a93a0>\n",
      "1634983031.164737 <__main__.Node object at 0x11c7a96a0>\n",
      "1634983031.164779 <__main__.Node object at 0x11c7a9e50>\n",
      "1634983031.16483 <__main__.Node object at 0x11c7ae070>\n",
      "1634983031.189305 <__main__.Leaf object at 0x11c7a9f10>\n",
      "1634983031.193072 <__main__.Leaf object at 0x11c7a9df0>\n",
      "1634983031.208151 <__main__.Leaf object at 0x11c7a9eb0>\n",
      "1634983031.2083972 <__main__.Node object at 0x11c7a98e0>\n",
      "1634983031.208525 <__main__.Node object at 0x11c7ae1f0>\n",
      "1634983031.211988 <__main__.Leaf object at 0x11c7a9d00>\n",
      "1634983031.21349 <__main__.Leaf object at 0x11c7a9ee0>\n",
      "1634983031.213633 <__main__.Node object at 0x11c7ae3d0>\n",
      "1634983031.213672 <__main__.Node object at 0x11c7ae310>\n",
      "1634983031.216077 <__main__.Leaf object at 0x11c7ae520>\n",
      "1634983031.22293 <__main__.Leaf object at 0x11c7a9f40>\n",
      "1634983031.223615 <__main__.Node object at 0x11c7a9d90>\n",
      "1634983031.2272289 <__main__.Leaf object at 0x11c7a9af0>\n",
      "1634983031.227526 <__main__.Node object at 0x11c7ae2e0>\n",
      "1634983031.227563 <__main__.Node object at 0x11c7ae130>\n",
      "1634983031.227597 <__main__.Node object at 0x11c7ae6a0>\n",
      "1634983031.227631 <__main__.Node object at 0x11c7ae880>\n",
      "1634983031.227665 <__main__.Node object at 0x11c7aea60>\n",
      "1634983031.381633 <__main__.Leaf object at 0x11c7a9ac0>\n",
      "1634983031.3829849 <__main__.Leaf object at 0x11c7aed60>\n",
      "1634983031.3853009 <__main__.Leaf object at 0x11c7aecd0>\n",
      "1634983031.385899 <__main__.Node object at 0x11c7aebe0>\n",
      "1634983031.385945 <__main__.Node object at 0x11c7ae940>\n",
      "1634983031.413012 <__main__.Leaf object at 0x11c7a90a0>\n",
      "1634983031.41462 <__main__.Leaf object at 0x11c7ae850>\n",
      "1634983031.415194 <__main__.Leaf object at 0x11c7ae700>\n",
      "1634983031.415244 <__main__.Node object at 0x11c7aebb0>\n",
      "1634983031.415273 <__main__.Node object at 0x11c7ae040>\n",
      "1634983031.430007 <__main__.Leaf object at 0x11c7ae190>\n",
      "1634983031.431073 <__main__.Leaf object at 0x11c7ae340>\n",
      "1634983031.4325671 <__main__.Node object at 0x11c7ae0d0>\n",
      "1634983031.438026 <__main__.Leaf object at 0x11c7ae490>\n",
      "1634983031.438391 <__main__.Leaf object at 0x11c7ae370>\n",
      "1634983031.4384341 <__main__.Node object at 0x11c7aea00>\n",
      "1634983031.4388502 <__main__.Leaf object at 0x11c7aee20>\n",
      "1634983031.438894 <__main__.Node object at 0x11c7ae9a0>\n",
      "1634983031.438922 <__main__.Node object at 0x11c7ae460>\n",
      "1634983031.438949 <__main__.Node object at 0x11c7aef40>\n",
      "1634983031.438981 <__main__.Node object at 0x11c7b1160>\n",
      "1634983031.447767 <__main__.Leaf object at 0x11c7aef10>\n",
      "1634983031.448663 <__main__.Leaf object at 0x11c7ae5e0>\n",
      "1634983031.4487329 <__main__.Node object at 0x11c7ae820>\n",
      "1634983031.467328 <__main__.Leaf object at 0x11c7ae910>\n",
      "1634983031.468071 <__main__.Leaf object at 0x11c7aeeb0>\n",
      "1634983031.468249 <__main__.Node object at 0x11c7aeca0>\n",
      "1634983031.472091 <__main__.Leaf object at 0x11c7ae9d0>\n",
      "1634983031.4727309 <__main__.Leaf object at 0x11c7aeb80>\n",
      "1634983031.4727921 <__main__.Node object at 0x11c7b1340>\n",
      "1634983031.472847 <__main__.Node object at 0x11c7b10d0>\n",
      "1634983031.4760242 <__main__.Leaf object at 0x11c7aeee0>\n",
      "1634983031.4766982 <__main__.Leaf object at 0x11c7ae640>\n",
      "1634983031.4767501 <__main__.Node object at 0x11c7b1430>\n",
      "1634983031.476782 <__main__.Node object at 0x11c7b12b0>\n",
      "1634983031.476821 <__main__.Node object at 0x11c7b16a0>\n",
      "1634983031.4768682 <__main__.Node object at 0x11c7b1880>\n",
      "1634983031.490418 <__main__.Leaf object at 0x11c7aee80>\n",
      "1634983031.491812 <__main__.Leaf object at 0x11c7aeb20>\n",
      "1634983031.492258 <__main__.Node object at 0x11c7aec70>\n",
      "1634983031.49349 <__main__.Leaf object at 0x11c7ae8e0>\n",
      "1634983031.4941041 <__main__.Leaf object at 0x11c7b19d0>\n",
      "1634983031.4945369 <__main__.Node object at 0x11c7b1ac0>\n",
      "1634983031.494636 <__main__.Node object at 0x11c7b1850>\n",
      "1634983031.494685 <__main__.Node object at 0x11c7b15b0>\n",
      "1634983031.51589 <__main__.Leaf object at 0x11c7b10a0>\n",
      "1634983031.5169458 <__main__.Leaf object at 0x11c7b13a0>\n",
      "1634983031.517375 <__main__.Node object at 0x11c7b1100>\n",
      "1634983031.52735 <__main__.Leaf object at 0x11c7b12e0>\n",
      "1634983031.528328 <__main__.Leaf object at 0x11c7b1730>\n",
      "1634983031.52872 <__main__.Node object at 0x11c7b13d0>\n",
      "1634983031.5325198 <__main__.Leaf object at 0x11c7b1820>\n",
      "1634983031.5331972 <__main__.Leaf object at 0x11c7b1670>\n",
      "1634983031.533576 <__main__.Node object at 0x11c7b1760>\n",
      "1634983031.533938 <__main__.Node object at 0x11c7b1970>\n",
      "1634983031.534284 <__main__.Node object at 0x11c7b1130>\n",
      "1634983031.5483289 <__main__.Leaf object at 0x11c7b1310>\n",
      "1634983031.550229 <__main__.Leaf object at 0x11c7b19a0>\n",
      "1634983031.5513449 <__main__.Leaf object at 0x11c7b15e0>\n",
      "1634983031.551748 <__main__.Node object at 0x11c7b1940>\n",
      "1634983031.552098 <__main__.Node object at 0x11c7b1b50>\n",
      "1634983031.560653 <__main__.Leaf object at 0x11c7b1550>\n",
      "1634983031.561596 <__main__.Leaf object at 0x11c7b1ca0>\n",
      "1634983031.562062 <__main__.Node object at 0x11c7b1d00>\n",
      "1634983031.5657868 <__main__.Leaf object at 0x11c7b1d30>\n",
      "1634983031.5665438 <__main__.Leaf object at 0x11c7b1af0>\n",
      "1634983031.566987 <__main__.Node object at 0x11c7b14c0>\n",
      "1634983031.567343 <__main__.Node object at 0x11c7b1520>\n",
      "1634983031.5676851 <__main__.Node object at 0x11c7b1d60>\n",
      "1634983031.567958 <__main__.Node object at 0x11c7b1d90>\n",
      "1634983031.568156 <__main__.Node object at 0x11c7b1f40>\n"
     ]
    },
    {
     "name": "stdout",
     "output_type": "stream",
     "text": [
      "1634983031.6177878 <__main__.Leaf object at 0x11c7b1e20>\n",
      "1634983031.619078 <__main__.Leaf object at 0x11c7b1eb0>\n",
      "1634983031.619253 <__main__.Node object at 0x11c7b3040>\n",
      "1634983031.61962 <__main__.Leaf object at 0x11c7b3460>\n",
      "1634983031.619671 <__main__.Node object at 0x11c7b3610>\n",
      "1634983031.6579251 <__main__.Leaf object at 0x11c7b1df0>\n",
      "1634983031.6590002 <__main__.Leaf object at 0x11c7b36d0>\n",
      "1634983031.660425 <__main__.Node object at 0x11c7b37c0>\n",
      "1634983031.6656399 <__main__.Leaf object at 0x11c7b1fd0>\n",
      "1634983031.667851 <__main__.Leaf object at 0x11c7b1e80>\n",
      "1634983031.668203 <__main__.Node object at 0x11c7b34f0>\n",
      "1634983031.668247 <__main__.Node object at 0x11c7b35b0>\n",
      "1634983031.668876 <__main__.Leaf object at 0x11c7b1ee0>\n",
      "1634983031.6690361 <__main__.Node object at 0x11c7b30d0>\n",
      "1634983031.677921 <__main__.Leaf object at 0x11c7b3310>\n",
      "1634983031.684607 <__main__.Leaf object at 0x11c7b3370>\n",
      "1634983031.684997 <__main__.Node object at 0x11c7b33d0>\n",
      "1634983031.687938 <__main__.Leaf object at 0x11c7b33a0>\n",
      "1634983031.688535 <__main__.Leaf object at 0x11c7b3130>\n",
      "1634983031.688587 <__main__.Node object at 0x11c7b3880>\n",
      "1634983031.688629 <__main__.Node object at 0x11c7b3a60>\n",
      "1634983031.68867 <__main__.Node object at 0x11c7b3c40>\n",
      "1634983031.688711 <__main__.Node object at 0x11c7b3e20>\n",
      "1634983031.714821 <__main__.Leaf object at 0x11c7b3fa0>\n",
      "1634983031.7157152 <__main__.Leaf object at 0x11c7b3d60>\n",
      "1634983031.71577 <__main__.Node object at 0x11c7b3eb0>\n",
      "1634983031.717014 <__main__.Leaf object at 0x11c7b3af0>\n",
      "1634983031.71717 <__main__.Node object at 0x11c7b3be0>\n",
      "1634983031.71751 <__main__.Leaf object at 0x11c7b3df0>\n",
      "1634983031.717559 <__main__.Node object at 0x11c7b3670>\n",
      "1634983031.719852 <__main__.Leaf object at 0x11c7b3a00>\n",
      "1634983031.720364 <__main__.Leaf object at 0x11c7b3400>\n",
      "1634983031.720413 <__main__.Node object at 0x11c7b3d30>\n",
      "1634983031.720454 <__main__.Node object at 0x11c7b39a0>\n",
      "1634983031.7229939 <__main__.Leaf object at 0x11c7b3bb0>\n",
      "1634983031.7238631 <__main__.Leaf object at 0x11c7b3f40>\n",
      "1634983031.723901 <__main__.Node object at 0x11c7b39d0>\n",
      "1634983031.7239318 <__main__.Node object at 0x11c7b38b0>\n",
      "1634983031.723955 <__main__.Node object at 0x11c7b51c0>\n",
      "1634983031.723976 <__main__.Node object at 0x11c7b53a0>\n"
     ]
    }
   ],
   "source": [
    "# Построим дерево по обучающей выборке\n",
    "my_tree = build_tree(train_data, train_values)"
   ]
  },
  {
   "cell_type": "code",
   "execution_count": 42,
   "metadata": {
    "scrolled": true
   },
   "outputs": [
    {
     "name": "stdout",
     "output_type": "stream",
     "text": [
      "Индекс 1 <= 0.07487609788866709\n",
      "--> True:\n",
      "  Индекс 1 <= -0.8155473512047462\n",
      "  --> True:\n",
      "    Индекс 1 <= -1.7745959882248337\n",
      "    --> True:\n",
      "      Индекс 1 <= -2.2271126318500145\n",
      "      --> True:\n",
      "        Индекс 0 <= -1.2133381258287046\n",
      "        --> True:\n",
      "          Прогноз: -249.94570136658453\n",
      "        --> False:\n",
      "          Прогноз: -225.01120037738386\n",
      "      --> False:\n",
      "        Индекс 0 <= -0.5889311760437443\n",
      "        --> True:\n",
      "          Прогноз: -197.9136433452496\n",
      "        --> False:\n",
      "          Индекс 1 <= -1.9987639441733347\n",
      "          --> True:\n",
      "            Прогноз: -171.9033039655334\n",
      "          --> False:\n",
      "            Прогноз: -154.6117321057729\n",
      "    --> False:\n",
      "      Индекс 1 <= -1.2704607763854796\n",
      "      --> True:\n",
      "        Индекс 0 <= 0.10059341767972574\n",
      "        --> True:\n",
      "          Индекс 1 <= -1.5387932457446432\n",
      "          --> True:\n",
      "            Прогноз: -148.1089401714187\n",
      "          --> False:\n",
      "            Прогноз: -130.07389478730232\n",
      "        --> False:\n",
      "          Индекс 0 <= 1.0138224669717055\n",
      "          --> True:\n",
      "            Индекс 1 <= -1.458981958986978\n",
      "            --> True:\n",
      "              Прогноз: -122.07103254119185\n",
      "            --> False:\n",
      "              Индекс 0 <= 0.31515939204229176\n",
      "              --> True:\n",
      "                Прогноз: -114.14938467736722\n",
      "              --> False:\n",
      "                Прогноз: -107.01704305255359\n",
      "          --> False:\n",
      "            Прогноз: -101.90115618403513\n",
      "      --> False:\n",
      "        Индекс 0 <= -0.2546330654656022\n",
      "        --> True:\n",
      "          Индекс 1 <= -1.0372891693549846\n",
      "          --> True:\n",
      "            Индекс 1 <= -1.1425181980221402\n",
      "            --> True:\n",
      "              Прогноз: -119.3901438728132\n",
      "            --> False:\n",
      "              Прогноз: -108.9401462863686\n",
      "          --> False:\n",
      "            Индекс 0 <= -1.0677023428943548\n",
      "            --> True:\n",
      "              Прогноз: -107.55989008697489\n",
      "            --> False:\n",
      "              Индекс 1 <= -0.9339146556265013\n",
      "              --> True:\n",
      "                Прогноз: -94.90052800790109\n",
      "              --> False:\n",
      "                Прогноз: -88.84663558229391\n",
      "        --> False:\n",
      "          Индекс 0 <= 0.8758389276492995\n",
      "          --> True:\n",
      "            Индекс 1 <= -1.0455342473768945\n",
      "            --> True:\n",
      "              Индекс 1 <= -1.0949118457410418\n",
      "              --> True:\n",
      "                Прогноз: -96.23069080249122\n",
      "              --> False:\n",
      "                Прогноз: -87.726790650046\n",
      "            --> False:\n",
      "              Индекс 0 <= 0.545227590984845\n",
      "              --> True:\n",
      "                Индекс 0 <= 0.12125495370357839\n",
      "                --> True:\n",
      "                  Прогноз: -83.36803145281165\n",
      "                --> False:\n",
      "                  Прогноз: -79.11126499255913\n",
      "              --> False:\n",
      "                Прогноз: -72.0218409613446\n",
      "          --> False:\n",
      "            Индекс 1 <= -1.1601701049822761\n",
      "            --> True:\n",
      "              Прогноз: -75.97925023350565\n",
      "            --> False:\n",
      "              Прогноз: -66.72621049314459\n",
      "  --> False:\n",
      "    Индекс 1 <= -0.31011677351806\n",
      "    --> True:\n",
      "      Индекс 0 <= 0.04906169237310281\n",
      "      --> True:\n",
      "        Индекс 1 <= -0.6350874191471966\n",
      "        --> True:\n",
      "          Индекс 0 <= -0.6465822153813857\n",
      "          --> True:\n",
      "            Прогноз: -83.47052447832453\n",
      "          --> False:\n",
      "            Индекс 1 <= -0.7475262685796005\n",
      "            --> True:\n",
      "              Прогноз: -76.59236348923244\n",
      "            --> False:\n",
      "              Прогноз: -68.08687977267921\n",
      "        --> False:\n",
      "          Индекс 0 <= -1.4070641104975221\n",
      "          --> True:\n",
      "            Прогноз: -69.34829836218609\n",
      "          --> False:\n",
      "            Индекс 1 <= -0.5170944579202279\n",
      "            --> True:\n",
      "              Индекс 0 <= -0.3162393276322203\n",
      "              --> True:\n",
      "                Прогноз: -62.60238352684251\n",
      "              --> False:\n",
      "                Прогноз: -53.19140643446175\n",
      "            --> False:\n",
      "              Индекс 0 <= -0.9798902516618007\n",
      "              --> True:\n",
      "                Прогноз: -52.42006319822971\n",
      "              --> False:\n",
      "                Индекс 1 <= -0.410216819271666\n",
      "                --> True:\n",
      "                  Прогноз: -48.71481451903095\n",
      "                --> False:\n",
      "                  Прогноз: -39.0562276485169\n",
      "      --> False:\n",
      "        Индекс 1 <= -0.4753728751379821\n",
      "        --> True:\n",
      "          Индекс 1 <= -0.7673098263317347\n",
      "          --> True:\n",
      "            Прогноз: -50.56131000337317\n",
      "          --> False:\n",
      "            Индекс 0 <= 0.8616231013412039\n",
      "            --> True:\n",
      "              Индекс 1 <= -0.5894296712511073\n",
      "              --> True:\n",
      "                Прогноз: -44.7961514352075\n",
      "              --> False:\n",
      "                Прогноз: -39.40822511722022\n",
      "            --> False:\n",
      "              Индекс 1 <= -0.6912689567621623\n",
      "              --> True:\n",
      "                Прогноз: -38.77179447396846\n",
      "              --> False:\n",
      "                Прогноз: -27.978362523731754\n",
      "        --> False:\n",
      "          Индекс 0 <= 1.2245077048054989\n",
      "          --> True:\n",
      "            Индекс 0 <= 0.45194603732122307\n",
      "            --> True:\n",
      "              Индекс 1 <= -0.4382002673386686\n",
      "              --> True:\n",
      "                Прогноз: -33.29621885994065\n",
      "              --> False:\n",
      "                Прогноз: -31.454507733680487\n",
      "            --> False:\n",
      "              Индекс 1 <= -0.41607554416018283\n",
      "              --> True:\n",
      "                Прогноз: -25.341244581113173\n",
      "              --> False:\n",
      "                Прогноз: -18.02731251295038\n",
      "          --> False:\n",
      "            Прогноз: -6.828008813856104\n",
      "    --> False:\n",
      "      Индекс 0 <= -0.0568244808858473\n",
      "      --> True:\n",
      "        Индекс 1 <= -0.10138078120071552\n",
      "        --> True:\n",
      "          Индекс 0 <= -0.3918162398080484\n",
      "          --> True:\n",
      "            Индекс 1 <= -0.15323616176709168\n",
      "            --> True:\n",
      "              Прогноз: -38.51828251688941\n",
      "            --> False:\n",
      "              Прогноз: -27.87115932494535\n",
      "          --> False:\n",
      "            Индекс 1 <= -0.18657899351146628\n",
      "            --> True:\n",
      "              Прогноз: -22.51347678349701\n",
      "            --> False:\n",
      "              Прогноз: -16.696623180278436\n",
      "        --> False:\n",
      "          Индекс 0 <= -0.710500674666955\n",
      "          --> True:\n",
      "            Прогноз: -20.09387354254231\n",
      "          --> False:\n",
      "            Индекс 0 <= -0.48272686236554857\n",
      "            --> True:\n",
      "              Прогноз: -12.204914693523126\n",
      "            --> False:\n",
      "              Прогноз: -5.7669894801330805\n",
      "      --> False:\n",
      "        Индекс 1 <= -0.14259029182964555\n",
      "        --> True:\n",
      "          Индекс 0 <= 0.8632633989374148\n",
      "          --> True:\n",
      "            Индекс 0 <= 0.2659301443682517\n",
      "            --> True:\n",
      "              Прогноз: -15.964503592788416\n",
      "            --> False:\n",
      "              Индекс 0 <= 0.5866231911821976\n",
      "              --> True:\n",
      "                Прогноз: -10.808181838510118\n",
      "              --> False:\n",
      "                Прогноз: -6.360650101257405\n",
      "          --> False:\n",
      "            Индекс 1 <= -0.23794193575218264\n",
      "            --> True:\n",
      "              Прогноз: -0.057317983290831265\n",
      "            --> False:\n",
      "              Прогноз: 3.4678363130366114\n",
      "        --> False:\n",
      "          Индекс 0 <= 1.0370389817739079\n",
      "          --> True:\n",
      "            Индекс 1 <= -0.019316006687580132\n",
      "            --> True:\n",
      "              Прогноз: 0.6257710627356605\n",
      "            --> False:\n",
      "              Прогноз: 11.362404291438413\n",
      "          --> False:\n",
      "            Прогноз: 23.569956124234324\n",
      "--> False:\n",
      "  Индекс 1 <= 0.963193097140422\n",
      "  --> True:\n",
      "    Индекс 1 <= 0.5609180584133466\n",
      "    --> True:\n",
      "      Индекс 0 <= 0.9762962980812675\n",
      "      --> True:\n",
      "        Индекс 1 <= 0.37857557679582865\n",
      "        --> True:\n",
      "          Индекс 0 <= -0.7283500854473723\n",
      "          --> True:\n",
      "            Индекс 0 <= -1.3122834112374318\n",
      "            --> True:\n",
      "              Прогноз: -4.712865082417947\n",
      "            --> False:\n",
      "              Индекс 1 <= 0.27649930482218366\n",
      "              --> True:\n",
      "                Прогноз: 5.523749709284475\n",
      "              --> False:\n",
      "                Прогноз: 16.177223893212627\n",
      "          --> False:\n",
      "            Индекс 1 <= 0.1836335742581206\n",
      "            --> True:\n",
      "              Индекс 0 <= 0.15237420731890447\n",
      "              --> True:\n",
      "                Прогноз: 9.46220120323545\n",
      "              --> False:\n",
      "                Индекс 1 <= 0.1465320727650737\n",
      "                --> True:\n",
      "                  Прогноз: 15.531521524070675\n",
      "                --> False:\n",
      "                  Прогноз: 26.453050237977163\n",
      "            --> False:\n",
      "              Индекс 0 <= -0.17008356268584848\n",
      "              --> True:\n",
      "                Индекс 1 <= 0.2738270906665688\n",
      "                --> True:\n",
      "                  Прогноз: 16.554019663179023\n",
      "                --> False:\n",
      "                  Прогноз: 21.817238619395205\n",
      "              --> False:\n",
      "                Индекс 0 <= 0.6370253187948584\n",
      "                --> True:\n",
      "                  Индекс 1 <= 0.28066507712263905\n",
      "                  --> True:\n",
      "                    Прогноз: 25.971327815826054\n",
      "                  --> False:\n",
      "                    Прогноз: 29.19866788449835\n",
      "                --> False:\n",
      "                  Прогноз: 32.36180781258795\n",
      "        --> False:\n",
      "          Индекс 0 <= -0.9216590545137943\n",
      "          --> True:\n",
      "            Индекс 0 <= -1.8239198526251938\n",
      "            --> True:\n",
      "              Прогноз: 8.90265599458896\n",
      "            --> False:\n",
      "              Прогноз: 24.13859639186929\n",
      "          --> False:\n",
      "            Индекс 0 <= 0.058371883962996744\n",
      "            --> True:\n",
      "              Индекс 1 <= 0.4923365559366488\n",
      "              --> True:\n",
      "                Индекс 1 <= 0.4269243288256842\n",
      "                --> True:\n",
      "                  Прогноз: 37.132356786339166\n",
      "                --> False:\n",
      "                  Прогноз: 34.599132393741414\n",
      "              --> False:\n",
      "                Индекс 0 <= -0.26700417934191467\n",
      "                --> True:\n",
      "                  Прогноз: 40.61548861511446\n",
      "                --> False:\n",
      "                  Прогноз: 43.93788660208204\n",
      "            --> False:\n",
      "              Индекс 0 <= 0.6274370827531105\n",
      "              --> True:\n",
      "                Прогноз: 46.99336326028116\n",
      "              --> False:\n",
      "                Прогноз: 52.37975723292508\n",
      "      --> False:\n",
      "        Индекс 1 <= 0.30820413383639916\n",
      "        --> True:\n",
      "          Индекс 0 <= 1.2239360089168974\n",
      "          --> True:\n",
      "            Прогноз: 36.50330147951875\n",
      "          --> False:\n",
      "            Прогноз: 47.917472155695975\n",
      "        --> False:\n",
      "          Индекс 0 <= 1.1223283216570923\n",
      "          --> True:\n",
      "            Прогноз: 55.90349709540008\n",
      "          --> False:\n",
      "            Прогноз: 67.69184027725974\n",
      "    --> False:\n",
      "      Индекс 0 <= -0.23148483037082923\n",
      "      --> True:\n",
      "        Индекс 0 <= -1.3113243820094933\n",
      "        --> True:\n",
      "          Индекс 1 <= 0.6640795475273731\n",
      "          --> True:\n",
      "            Прогноз: 28.841930911052977\n",
      "          --> False:\n",
      "            Прогноз: 36.83765128026213\n",
      "        --> False:\n",
      "          Индекс 1 <= 0.7745345235289796\n",
      "          --> True:\n",
      "            Индекс 0 <= -0.4656597324338331\n",
      "            --> True:\n",
      "              Прогноз: 49.785903371819586\n",
      "            --> False:\n",
      "              Прогноз: 46.61254915043134\n",
      "          --> False:\n",
      "            Индекс 1 <= 0.815600359710878\n",
      "            --> True:\n",
      "              Прогноз: 63.447186600782935\n",
      "            --> False:\n",
      "              Прогноз: 72.58811590520209\n",
      "      --> False:\n",
      "        Индекс 1 <= 0.6678795613643351\n",
      "        --> True:\n",
      "          Индекс 0 <= 0.45794707630974174\n",
      "          --> True:\n",
      "            Прогноз: 59.542088003685265\n",
      "          --> False:\n",
      "            Индекс 0 <= 1.2821418300893201\n",
      "            --> True:\n",
      "              Прогноз: 70.48204291813167\n",
      "            --> False:\n",
      "              Прогноз: 79.4126474832992\n",
      "        --> False:\n"
     ]
    },
    {
     "name": "stdout",
     "output_type": "stream",
     "text": [
      "          Индекс 0 <= 0.43912737321880185\n",
      "          --> True:\n",
      "            Индекс 1 <= 0.8575475535903946\n",
      "            --> True:\n",
      "              Прогноз: 72.09089673663034\n",
      "            --> False:\n",
      "              Прогноз: 83.09400693381521\n",
      "          --> False:\n",
      "            Индекс 0 <= 1.0444420947072588\n",
      "            --> True:\n",
      "              Прогноз: 88.35881379422341\n",
      "            --> False:\n",
      "              Прогноз: 95.60094460347773\n",
      "  --> False:\n",
      "    Индекс 1 <= 1.5045218666646716\n",
      "    --> True:\n",
      "      Индекс 0 <= -0.6284625527547907\n",
      "      --> True:\n",
      "        Индекс 1 <= 1.2179409008013473\n",
      "        --> True:\n",
      "          Индекс 0 <= -1.229574253546429\n",
      "          --> True:\n",
      "            Прогноз: 63.13159848762391\n",
      "          --> False:\n",
      "            Прогноз: 81.62449871086277\n",
      "        --> False:\n",
      "          Прогноз: 105.24185735350743\n",
      "      --> False:\n",
      "        Индекс 1 <= 1.167075165999964\n",
      "        --> True:\n",
      "          Индекс 0 <= 1.0414396343771428\n",
      "          --> True:\n",
      "            Индекс 0 <= 0.11197268749652817\n",
      "            --> True:\n",
      "              Индекс 1 <= 1.114382976779792\n",
      "              --> True:\n",
      "                Прогноз: 90.24480722361396\n",
      "              --> False:\n",
      "                Прогноз: 97.49893197293193\n",
      "            --> False:\n",
      "              Индекс 1 <= 1.04003845453448\n",
      "              --> True:\n",
      "                Прогноз: 100.63615965007048\n",
      "              --> False:\n",
      "                Прогноз: 108.02620485429529\n",
      "          --> False:\n",
      "            Прогноз: 121.51219361790288\n",
      "        --> False:\n",
      "          Индекс 0 <= 0.22619975684315669\n",
      "          --> True:\n",
      "            Индекс 1 <= 1.3798799010709466\n",
      "            --> True:\n",
      "              Прогноз: 112.20515335150554\n",
      "            --> False:\n",
      "              Прогноз: 122.33780870423578\n",
      "          --> False:\n",
      "            Индекс 1 <= 1.2567374708813324\n",
      "            --> True:\n",
      "              Прогноз: 130.125451394335\n",
      "            --> False:\n",
      "              Прогноз: 134.64167509197773\n",
      "    --> False:\n",
      "      Индекс 1 <= 2.0657833202188343\n",
      "      --> True:\n",
      "        Индекс 0 <= 0.5027408819999043\n",
      "        --> True:\n",
      "          Индекс 1 <= 1.8971606873858808\n",
      "          --> True:\n",
      "            Индекс 0 <= 0.10940269642542817\n",
      "            --> True:\n",
      "              Индекс 1 <= 1.6389616031539602\n",
      "              --> True:\n",
      "                Прогноз: 127.77374109868316\n",
      "              --> False:\n",
      "                Прогноз: 143.0142283052865\n",
      "            --> False:\n",
      "              Прогноз: 150.55805402949454\n",
      "          --> False:\n",
      "            Прогноз: 166.86426332707606\n",
      "        --> False:\n",
      "          Индекс 1 <= 1.6234621032930863\n",
      "          --> True:\n",
      "            Прогноз: 162.72464526951862\n",
      "          --> False:\n",
      "            Прогноз: 176.332261436513\n",
      "      --> False:\n",
      "        Индекс 0 <= -0.5487608291523853\n",
      "        --> True:\n",
      "          Прогноз: 181.9847874844771\n",
      "        --> False:\n",
      "          Прогноз: 206.52206441926444\n"
     ]
    }
   ],
   "source": [
    "# Напечатаем ход нашего дерева\n",
    "def print_tree(node, spacing=\"\"):\n",
    "\n",
    "    # Если лист, то выводим его прогноз\n",
    "    if isinstance(node, Leaf):\n",
    "        print(spacing + \"Прогноз:\", node.prediction)\n",
    "        return\n",
    "\n",
    "    # Выведем значение индекса и порога на этом узле\n",
    "    print(spacing + 'Индекс', str(node.index), '<=', str(node.t))\n",
    "\n",
    "    # Рекурсионный вызов функции на положительном поддереве\n",
    "    print (spacing + '--> True:')\n",
    "    print_tree(node.true_branch, spacing + \"  \")\n",
    "\n",
    "    # Рекурсионный вызов функции на отрицательном поддереве\n",
    "    print (spacing + '--> False:')\n",
    "    print_tree(node.false_branch, spacing + \"  \")\n",
    "    \n",
    "print_tree(my_tree)"
   ]
  },
  {
   "cell_type": "code",
   "execution_count": 43,
   "metadata": {},
   "outputs": [],
   "source": [
    "# Получим ответы для обучающей выборки \n",
    "train_answers = predict(train_data, my_tree)\n",
    "# И получим ответы для тестовой выборки\n",
    "answers = predict(test_data, my_tree)"
   ]
  },
  {
   "cell_type": "code",
   "execution_count": 44,
   "metadata": {},
   "outputs": [
    {
     "data": {
      "text/plain": [
       "0.9945961555875618"
      ]
     },
     "execution_count": 44,
     "metadata": {},
     "output_type": "execute_result"
    }
   ],
   "source": [
    "r2_score(train_answers, train_values)"
   ]
  },
  {
   "cell_type": "code",
   "execution_count": 45,
   "metadata": {},
   "outputs": [
    {
     "data": {
      "text/plain": [
       "0.9785598583201649"
      ]
     },
     "execution_count": 45,
     "metadata": {},
     "output_type": "execute_result"
    }
   ],
   "source": [
    "r2_score(answers, test_values)"
   ]
  },
  {
   "cell_type": "markdown",
   "metadata": {},
   "source": [
    "Сравним с результатами, которые можно получить с помощью модели `DecisionTreeRegressor` из модуля sklearn."
   ]
  },
  {
   "cell_type": "code",
   "execution_count": 46,
   "metadata": {},
   "outputs": [
    {
     "data": {
      "text/plain": [
       "DecisionTreeRegressor(min_samples_leaf=5, random_state=1)"
      ]
     },
     "execution_count": 46,
     "metadata": {},
     "output_type": "execute_result"
    }
   ],
   "source": [
    "model = DecisionTreeRegressor(min_samples_leaf=5, random_state=1)\n",
    "model.fit(train_data, train_values)"
   ]
  },
  {
   "cell_type": "code",
   "execution_count": 47,
   "metadata": {},
   "outputs": [
    {
     "data": {
      "text/plain": [
       "0.9945961555875618"
      ]
     },
     "execution_count": 47,
     "metadata": {},
     "output_type": "execute_result"
    }
   ],
   "source": [
    "train_answers_sk = model.predict(train_data)\n",
    "r2_score(train_answers_sk, train_values)"
   ]
  },
  {
   "cell_type": "code",
   "execution_count": 48,
   "metadata": {},
   "outputs": [
    {
     "data": {
      "text/plain": [
       "0.9799044954219035"
      ]
     },
     "execution_count": 48,
     "metadata": {},
     "output_type": "execute_result"
    }
   ],
   "source": [
    "answers_sk = model.predict(test_data)\n",
    "r2_score(answers_sk, test_values)"
   ]
  }
 ],
 "metadata": {
  "kernelspec": {
   "display_name": "Python 3",
   "language": "python",
   "name": "python3"
  },
  "language_info": {
   "codemirror_mode": {
    "name": "ipython",
    "version": 3
   },
   "file_extension": ".py",
   "mimetype": "text/x-python",
   "name": "python",
   "nbconvert_exporter": "python",
   "pygments_lexer": "ipython3",
   "version": "3.8.12"
  }
 },
 "nbformat": 4,
 "nbformat_minor": 4
}
