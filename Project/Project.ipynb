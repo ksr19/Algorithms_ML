{
 "cells": [
  {
   "cell_type": "markdown",
   "metadata": {},
   "source": [
    "# Classification. Choose tutors"
   ]
  },
  {
   "cell_type": "markdown",
   "metadata": {},
   "source": [
    "1. [Загрузка данных](#load_data)\n",
    "2. [EDA](#eda)\n",
    "3. [Полезные функции](#useful_func)\n",
    "4. [Подготовка данных](#data_preprocess)\n",
    "5. [Базовая модель](#base_model)\n",
    "6. [Случайный лес](#random_forest)\n",
    "7. [Стохастический градиентный бустинг](#sgb)\n",
    "8. [Итоговая модель](#final_model)\n",
    "9. [Приложение](#supplement)"
   ]
  },
  {
   "cell_type": "markdown",
   "metadata": {},
   "source": [
    "## 1. Загрузка данных <a class=\"anchor\" id=\"load_data\"></a>"
   ]
  },
  {
   "cell_type": "markdown",
   "metadata": {},
   "source": [
    "Для начала добавим библиотеки необходимые для дальнейшего анализа, разрешенные правилами."
   ]
  },
  {
   "cell_type": "code",
   "execution_count": 106,
   "metadata": {},
   "outputs": [],
   "source": [
    "import numpy as np\n",
    "import pandas as pd\n",
    "from sklearn.model_selection import train_test_split\n",
    "from imblearn import over_sampling, under_sampling\n",
    "import matplotlib.pyplot as plt\n",
    "import seaborn as sns"
   ]
  },
  {
   "cell_type": "markdown",
   "metadata": {},
   "source": [
    "Загрузим тренировочный датасет."
   ]
  },
  {
   "cell_type": "code",
   "execution_count": 107,
   "metadata": {},
   "outputs": [
    {
     "data": {
      "text/html": [
       "<div>\n",
       "<style scoped>\n",
       "    .dataframe tbody tr th:only-of-type {\n",
       "        vertical-align: middle;\n",
       "    }\n",
       "\n",
       "    .dataframe tbody tr th {\n",
       "        vertical-align: top;\n",
       "    }\n",
       "\n",
       "    .dataframe thead th {\n",
       "        text-align: right;\n",
       "    }\n",
       "</style>\n",
       "<table border=\"1\" class=\"dataframe\">\n",
       "  <thead>\n",
       "    <tr style=\"text-align: right;\">\n",
       "      <th></th>\n",
       "      <th>Id</th>\n",
       "      <th>age</th>\n",
       "      <th>years_of_experience</th>\n",
       "      <th>lesson_price</th>\n",
       "      <th>qualification</th>\n",
       "      <th>physics</th>\n",
       "      <th>chemistry</th>\n",
       "      <th>biology</th>\n",
       "      <th>english</th>\n",
       "      <th>geography</th>\n",
       "      <th>history</th>\n",
       "      <th>mean_exam_points</th>\n",
       "      <th>choose</th>\n",
       "    </tr>\n",
       "  </thead>\n",
       "  <tbody>\n",
       "    <tr>\n",
       "      <th>0</th>\n",
       "      <td>0</td>\n",
       "      <td>35.0</td>\n",
       "      <td>0.0</td>\n",
       "      <td>2150.0</td>\n",
       "      <td>2.0</td>\n",
       "      <td>0.0</td>\n",
       "      <td>0.0</td>\n",
       "      <td>0.0</td>\n",
       "      <td>0.0</td>\n",
       "      <td>0.0</td>\n",
       "      <td>0.0</td>\n",
       "      <td>74.0</td>\n",
       "      <td>0</td>\n",
       "    </tr>\n",
       "    <tr>\n",
       "      <th>1</th>\n",
       "      <td>1</td>\n",
       "      <td>52.0</td>\n",
       "      <td>2.0</td>\n",
       "      <td>1250.0</td>\n",
       "      <td>2.0</td>\n",
       "      <td>1.0</td>\n",
       "      <td>0.0</td>\n",
       "      <td>1.0</td>\n",
       "      <td>0.0</td>\n",
       "      <td>0.0</td>\n",
       "      <td>1.0</td>\n",
       "      <td>57.0</td>\n",
       "      <td>1</td>\n",
       "    </tr>\n",
       "    <tr>\n",
       "      <th>2</th>\n",
       "      <td>2</td>\n",
       "      <td>29.0</td>\n",
       "      <td>3.0</td>\n",
       "      <td>1750.0</td>\n",
       "      <td>1.0</td>\n",
       "      <td>1.0</td>\n",
       "      <td>0.0</td>\n",
       "      <td>0.0</td>\n",
       "      <td>0.0</td>\n",
       "      <td>0.0</td>\n",
       "      <td>0.0</td>\n",
       "      <td>66.0</td>\n",
       "      <td>0</td>\n",
       "    </tr>\n",
       "    <tr>\n",
       "      <th>3</th>\n",
       "      <td>3</td>\n",
       "      <td>33.0</td>\n",
       "      <td>3.0</td>\n",
       "      <td>1050.0</td>\n",
       "      <td>1.0</td>\n",
       "      <td>0.0</td>\n",
       "      <td>0.0</td>\n",
       "      <td>0.0</td>\n",
       "      <td>0.0</td>\n",
       "      <td>0.0</td>\n",
       "      <td>0.0</td>\n",
       "      <td>66.0</td>\n",
       "      <td>1</td>\n",
       "    </tr>\n",
       "    <tr>\n",
       "      <th>4</th>\n",
       "      <td>4</td>\n",
       "      <td>46.0</td>\n",
       "      <td>3.0</td>\n",
       "      <td>2250.0</td>\n",
       "      <td>2.0</td>\n",
       "      <td>1.0</td>\n",
       "      <td>0.0</td>\n",
       "      <td>0.0</td>\n",
       "      <td>0.0</td>\n",
       "      <td>0.0</td>\n",
       "      <td>0.0</td>\n",
       "      <td>73.0</td>\n",
       "      <td>0</td>\n",
       "    </tr>\n",
       "  </tbody>\n",
       "</table>\n",
       "</div>"
      ],
      "text/plain": [
       "   Id   age  years_of_experience  lesson_price  qualification  physics  \\\n",
       "0   0  35.0                  0.0        2150.0            2.0      0.0   \n",
       "1   1  52.0                  2.0        1250.0            2.0      1.0   \n",
       "2   2  29.0                  3.0        1750.0            1.0      1.0   \n",
       "3   3  33.0                  3.0        1050.0            1.0      0.0   \n",
       "4   4  46.0                  3.0        2250.0            2.0      1.0   \n",
       "\n",
       "   chemistry  biology  english  geography  history  mean_exam_points  choose  \n",
       "0        0.0      0.0      0.0        0.0      0.0              74.0       0  \n",
       "1        0.0      1.0      0.0        0.0      1.0              57.0       1  \n",
       "2        0.0      0.0      0.0        0.0      0.0              66.0       0  \n",
       "3        0.0      0.0      0.0        0.0      0.0              66.0       1  \n",
       "4        0.0      0.0      0.0        0.0      0.0              73.0       0  "
      ]
     },
     "execution_count": 107,
     "metadata": {},
     "output_type": "execute_result"
    }
   ],
   "source": [
    "df = pd.read_csv('train.csv')\n",
    "df.head()"
   ]
  },
  {
   "cell_type": "markdown",
   "metadata": {},
   "source": [
    "Задача заключается в предсказании вероятности того, что репетитор подойдет для подготовки к экзамену по математике. "
   ]
  },
  {
   "cell_type": "markdown",
   "metadata": {},
   "source": [
    "## 2. EDA <a class=\"anchor\" id=\"eda\"></a>"
   ]
  },
  {
   "cell_type": "markdown",
   "metadata": {},
   "source": [
    "Проведем базовый первичный анализ признаков и целевой переменной."
   ]
  },
  {
   "cell_type": "code",
   "execution_count": 108,
   "metadata": {},
   "outputs": [
    {
     "name": "stdout",
     "output_type": "stream",
     "text": [
      "<class 'pandas.core.frame.DataFrame'>\n",
      "RangeIndex: 10000 entries, 0 to 9999\n",
      "Data columns (total 13 columns):\n",
      " #   Column               Non-Null Count  Dtype  \n",
      "---  ------               --------------  -----  \n",
      " 0   Id                   10000 non-null  int64  \n",
      " 1   age                  10000 non-null  float64\n",
      " 2   years_of_experience  10000 non-null  float64\n",
      " 3   lesson_price         10000 non-null  float64\n",
      " 4   qualification        10000 non-null  float64\n",
      " 5   physics              10000 non-null  float64\n",
      " 6   chemistry            10000 non-null  float64\n",
      " 7   biology              10000 non-null  float64\n",
      " 8   english              10000 non-null  float64\n",
      " 9   geography            10000 non-null  float64\n",
      " 10  history              10000 non-null  float64\n",
      " 11  mean_exam_points     10000 non-null  float64\n",
      " 12  choose               10000 non-null  int64  \n",
      "dtypes: float64(11), int64(2)\n",
      "memory usage: 1015.8 KB\n"
     ]
    }
   ],
   "source": [
    "df.info()"
   ]
  },
  {
   "cell_type": "code",
   "execution_count": 109,
   "metadata": {
    "scrolled": true
   },
   "outputs": [
    {
     "data": {
      "text/html": [
       "<div>\n",
       "<style scoped>\n",
       "    .dataframe tbody tr th:only-of-type {\n",
       "        vertical-align: middle;\n",
       "    }\n",
       "\n",
       "    .dataframe tbody tr th {\n",
       "        vertical-align: top;\n",
       "    }\n",
       "\n",
       "    .dataframe thead th {\n",
       "        text-align: right;\n",
       "    }\n",
       "</style>\n",
       "<table border=\"1\" class=\"dataframe\">\n",
       "  <thead>\n",
       "    <tr style=\"text-align: right;\">\n",
       "      <th></th>\n",
       "      <th>Id</th>\n",
       "      <th>age</th>\n",
       "      <th>years_of_experience</th>\n",
       "      <th>lesson_price</th>\n",
       "      <th>qualification</th>\n",
       "      <th>physics</th>\n",
       "      <th>chemistry</th>\n",
       "      <th>biology</th>\n",
       "      <th>english</th>\n",
       "      <th>geography</th>\n",
       "      <th>history</th>\n",
       "      <th>mean_exam_points</th>\n",
       "      <th>choose</th>\n",
       "    </tr>\n",
       "  </thead>\n",
       "  <tbody>\n",
       "    <tr>\n",
       "      <th>count</th>\n",
       "      <td>10000.00000</td>\n",
       "      <td>10000.000000</td>\n",
       "      <td>10000.000000</td>\n",
       "      <td>10000.000000</td>\n",
       "      <td>10000.000000</td>\n",
       "      <td>10000.00000</td>\n",
       "      <td>10000.000000</td>\n",
       "      <td>10000.000000</td>\n",
       "      <td>10000.000000</td>\n",
       "      <td>10000.00000</td>\n",
       "      <td>10000.000000</td>\n",
       "      <td>10000.000000</td>\n",
       "      <td>10000.000000</td>\n",
       "    </tr>\n",
       "    <tr>\n",
       "      <th>mean</th>\n",
       "      <td>4999.50000</td>\n",
       "      <td>45.800900</td>\n",
       "      <td>1.974800</td>\n",
       "      <td>1702.440000</td>\n",
       "      <td>1.724300</td>\n",
       "      <td>0.37060</td>\n",
       "      <td>0.121500</td>\n",
       "      <td>0.117200</td>\n",
       "      <td>0.059100</td>\n",
       "      <td>0.02770</td>\n",
       "      <td>0.018000</td>\n",
       "      <td>64.435200</td>\n",
       "      <td>0.110900</td>\n",
       "    </tr>\n",
       "    <tr>\n",
       "      <th>std</th>\n",
       "      <td>2886.89568</td>\n",
       "      <td>8.030274</td>\n",
       "      <td>1.766883</td>\n",
       "      <td>523.789062</td>\n",
       "      <td>0.798845</td>\n",
       "      <td>0.48299</td>\n",
       "      <td>0.326724</td>\n",
       "      <td>0.321675</td>\n",
       "      <td>0.235824</td>\n",
       "      <td>0.16412</td>\n",
       "      <td>0.132958</td>\n",
       "      <td>13.595024</td>\n",
       "      <td>0.314024</td>\n",
       "    </tr>\n",
       "    <tr>\n",
       "      <th>min</th>\n",
       "      <td>0.00000</td>\n",
       "      <td>23.000000</td>\n",
       "      <td>0.000000</td>\n",
       "      <td>200.000000</td>\n",
       "      <td>1.000000</td>\n",
       "      <td>0.00000</td>\n",
       "      <td>0.000000</td>\n",
       "      <td>0.000000</td>\n",
       "      <td>0.000000</td>\n",
       "      <td>0.00000</td>\n",
       "      <td>0.000000</td>\n",
       "      <td>33.000000</td>\n",
       "      <td>0.000000</td>\n",
       "    </tr>\n",
       "    <tr>\n",
       "      <th>25%</th>\n",
       "      <td>2499.75000</td>\n",
       "      <td>40.000000</td>\n",
       "      <td>0.000000</td>\n",
       "      <td>1300.000000</td>\n",
       "      <td>1.000000</td>\n",
       "      <td>0.00000</td>\n",
       "      <td>0.000000</td>\n",
       "      <td>0.000000</td>\n",
       "      <td>0.000000</td>\n",
       "      <td>0.00000</td>\n",
       "      <td>0.000000</td>\n",
       "      <td>55.000000</td>\n",
       "      <td>0.000000</td>\n",
       "    </tr>\n",
       "    <tr>\n",
       "      <th>50%</th>\n",
       "      <td>4999.50000</td>\n",
       "      <td>46.000000</td>\n",
       "      <td>2.000000</td>\n",
       "      <td>1550.000000</td>\n",
       "      <td>2.000000</td>\n",
       "      <td>0.00000</td>\n",
       "      <td>0.000000</td>\n",
       "      <td>0.000000</td>\n",
       "      <td>0.000000</td>\n",
       "      <td>0.00000</td>\n",
       "      <td>0.000000</td>\n",
       "      <td>63.000000</td>\n",
       "      <td>0.000000</td>\n",
       "    </tr>\n",
       "    <tr>\n",
       "      <th>75%</th>\n",
       "      <td>7499.25000</td>\n",
       "      <td>51.000000</td>\n",
       "      <td>3.000000</td>\n",
       "      <td>2150.000000</td>\n",
       "      <td>2.000000</td>\n",
       "      <td>1.00000</td>\n",
       "      <td>0.000000</td>\n",
       "      <td>0.000000</td>\n",
       "      <td>0.000000</td>\n",
       "      <td>0.00000</td>\n",
       "      <td>0.000000</td>\n",
       "      <td>74.000000</td>\n",
       "      <td>0.000000</td>\n",
       "    </tr>\n",
       "    <tr>\n",
       "      <th>max</th>\n",
       "      <td>9999.00000</td>\n",
       "      <td>68.000000</td>\n",
       "      <td>9.000000</td>\n",
       "      <td>3950.000000</td>\n",
       "      <td>4.000000</td>\n",
       "      <td>1.00000</td>\n",
       "      <td>1.000000</td>\n",
       "      <td>1.000000</td>\n",
       "      <td>1.000000</td>\n",
       "      <td>1.00000</td>\n",
       "      <td>1.000000</td>\n",
       "      <td>100.000000</td>\n",
       "      <td>1.000000</td>\n",
       "    </tr>\n",
       "  </tbody>\n",
       "</table>\n",
       "</div>"
      ],
      "text/plain": [
       "                Id           age  years_of_experience  lesson_price  \\\n",
       "count  10000.00000  10000.000000         10000.000000  10000.000000   \n",
       "mean    4999.50000     45.800900             1.974800   1702.440000   \n",
       "std     2886.89568      8.030274             1.766883    523.789062   \n",
       "min        0.00000     23.000000             0.000000    200.000000   \n",
       "25%     2499.75000     40.000000             0.000000   1300.000000   \n",
       "50%     4999.50000     46.000000             2.000000   1550.000000   \n",
       "75%     7499.25000     51.000000             3.000000   2150.000000   \n",
       "max     9999.00000     68.000000             9.000000   3950.000000   \n",
       "\n",
       "       qualification      physics     chemistry       biology       english  \\\n",
       "count   10000.000000  10000.00000  10000.000000  10000.000000  10000.000000   \n",
       "mean        1.724300      0.37060      0.121500      0.117200      0.059100   \n",
       "std         0.798845      0.48299      0.326724      0.321675      0.235824   \n",
       "min         1.000000      0.00000      0.000000      0.000000      0.000000   \n",
       "25%         1.000000      0.00000      0.000000      0.000000      0.000000   \n",
       "50%         2.000000      0.00000      0.000000      0.000000      0.000000   \n",
       "75%         2.000000      1.00000      0.000000      0.000000      0.000000   \n",
       "max         4.000000      1.00000      1.000000      1.000000      1.000000   \n",
       "\n",
       "         geography       history  mean_exam_points        choose  \n",
       "count  10000.00000  10000.000000      10000.000000  10000.000000  \n",
       "mean       0.02770      0.018000         64.435200      0.110900  \n",
       "std        0.16412      0.132958         13.595024      0.314024  \n",
       "min        0.00000      0.000000         33.000000      0.000000  \n",
       "25%        0.00000      0.000000         55.000000      0.000000  \n",
       "50%        0.00000      0.000000         63.000000      0.000000  \n",
       "75%        0.00000      0.000000         74.000000      0.000000  \n",
       "max        1.00000      1.000000        100.000000      1.000000  "
      ]
     },
     "execution_count": 109,
     "metadata": {},
     "output_type": "execute_result"
    }
   ],
   "source": [
    "df.describe()"
   ]
  },
  {
   "cell_type": "code",
   "execution_count": 110,
   "metadata": {},
   "outputs": [
    {
     "data": {
      "text/plain": [
       "0    8891\n",
       "1    1109\n",
       "Name: choose, dtype: int64"
      ]
     },
     "execution_count": 110,
     "metadata": {},
     "output_type": "execute_result"
    }
   ],
   "source": [
    "df['choose'].value_counts()"
   ]
  },
  {
   "cell_type": "markdown",
   "metadata": {},
   "source": [
    "На основе представленных результатов можно сделать несколько выводов:\n",
    "1. Датасет несбалансирован по значению целевой переменной;\n",
    "2. В датасете отсутствуют пропуски;\n",
    "3. Все признаки представлены числами, часть из них при этом являются дискретными, а другие непрерывными."
   ]
  },
  {
   "cell_type": "markdown",
   "metadata": {},
   "source": [
    "Рассмотрим дискретные признаки более пристально."
   ]
  },
  {
   "cell_type": "code",
   "execution_count": 111,
   "metadata": {},
   "outputs": [
    {
     "data": {
      "text/plain": [
       "0.0    2774\n",
       "1.0    1842\n",
       "2.0    1743\n",
       "3.0    1545\n",
       "4.0    1177\n",
       "5.0     581\n",
       "6.0     234\n",
       "7.0      73\n",
       "8.0      22\n",
       "9.0       9\n",
       "Name: years_of_experience, dtype: int64"
      ]
     },
     "execution_count": 111,
     "metadata": {},
     "output_type": "execute_result"
    }
   ],
   "source": [
    "df['years_of_experience'].value_counts()"
   ]
  },
  {
   "cell_type": "code",
   "execution_count": 112,
   "metadata": {},
   "outputs": [
    {
     "data": {
      "text/plain": [
       "1.0    4891\n",
       "2.0    3033\n",
       "3.0    2018\n",
       "4.0      58\n",
       "Name: qualification, dtype: int64"
      ]
     },
     "execution_count": 112,
     "metadata": {},
     "output_type": "execute_result"
    }
   ],
   "source": [
    "df['qualification'].value_counts()"
   ]
  },
  {
   "cell_type": "code",
   "execution_count": 113,
   "metadata": {},
   "outputs": [
    {
     "data": {
      "text/plain": [
       "0.0    6294\n",
       "1.0    3706\n",
       "Name: physics, dtype: int64"
      ]
     },
     "execution_count": 113,
     "metadata": {},
     "output_type": "execute_result"
    }
   ],
   "source": [
    "df['physics'].value_counts()"
   ]
  },
  {
   "cell_type": "code",
   "execution_count": 114,
   "metadata": {},
   "outputs": [
    {
     "data": {
      "text/plain": [
       "0.0    8785\n",
       "1.0    1215\n",
       "Name: chemistry, dtype: int64"
      ]
     },
     "execution_count": 114,
     "metadata": {},
     "output_type": "execute_result"
    }
   ],
   "source": [
    "df['chemistry'].value_counts()"
   ]
  },
  {
   "cell_type": "code",
   "execution_count": 115,
   "metadata": {},
   "outputs": [
    {
     "data": {
      "text/plain": [
       "0.0    8828\n",
       "1.0    1172\n",
       "Name: biology, dtype: int64"
      ]
     },
     "execution_count": 115,
     "metadata": {},
     "output_type": "execute_result"
    }
   ],
   "source": [
    "df['biology'].value_counts()"
   ]
  },
  {
   "cell_type": "code",
   "execution_count": 116,
   "metadata": {},
   "outputs": [
    {
     "data": {
      "text/plain": [
       "0.0    9409\n",
       "1.0     591\n",
       "Name: english, dtype: int64"
      ]
     },
     "execution_count": 116,
     "metadata": {},
     "output_type": "execute_result"
    }
   ],
   "source": [
    "df['english'].value_counts()"
   ]
  },
  {
   "cell_type": "code",
   "execution_count": 117,
   "metadata": {},
   "outputs": [
    {
     "data": {
      "text/plain": [
       "0.0    9820\n",
       "1.0     180\n",
       "Name: history, dtype: int64"
      ]
     },
     "execution_count": 117,
     "metadata": {},
     "output_type": "execute_result"
    }
   ],
   "source": [
    "df['history'].value_counts()"
   ]
  },
  {
   "cell_type": "code",
   "execution_count": 118,
   "metadata": {},
   "outputs": [
    {
     "data": {
      "text/plain": [
       "0.0    9723\n",
       "1.0     277\n",
       "Name: geography, dtype: int64"
      ]
     },
     "execution_count": 118,
     "metadata": {},
     "output_type": "execute_result"
    }
   ],
   "source": [
    "df['geography'].value_counts()"
   ]
  },
  {
   "cell_type": "markdown",
   "metadata": {},
   "source": [
    "Рассчитаем для каждого из этих признаков показатель взаимной информации с целевой переменной, чтобы получить базовое представление об их пользе при построении модели предсказания. Для этого реализуем функцию, отвечающую за расчет данной величины."
   ]
  },
  {
   "cell_type": "code",
   "execution_count": 119,
   "metadata": {},
   "outputs": [],
   "source": [
    "def mut_info(x, y):\n",
    "    mut_info = 0\n",
    "    unique_x = x.unique()\n",
    "    unique_y = y.unique()\n",
    "    size = x.shape[0]\n",
    "    \n",
    "    for y_val in unique_y:\n",
    "        for x_val in unique_x:\n",
    "            p_x = np.sum(x == x_val)/size\n",
    "            p_y = np.sum(y == y_val)/size\n",
    "            p_x_y = np.sum((x == x_val) & (y == y_val))/size\n",
    "            \n",
    "            if p_x_y != 0:\n",
    "                mut_info += p_x_y * np.log(p_x_y / (p_x * p_y))\n",
    "    \n",
    "    return mut_info"
   ]
  },
  {
   "cell_type": "code",
   "execution_count": 120,
   "metadata": {
    "scrolled": true
   },
   "outputs": [
    {
     "name": "stdout",
     "output_type": "stream",
     "text": [
      "Взаимная информация признака years_of_experience с целевой переменной: 0.001150.\n",
      "Взаимная информация признака qualification с целевой переменной: 0.001367.\n",
      "Взаимная информация признака physics с целевой переменной: 0.018311.\n",
      "Взаимная информация признака chemistry с целевой переменной: 0.003671.\n",
      "Взаимная информация признака biology с целевой переменной: 0.002264.\n",
      "Взаимная информация признака english с целевой переменной: 0.000232.\n",
      "Взаимная информация признака history с целевой переменной: 0.000011.\n",
      "Взаимная информация признака geography с целевой переменной: 0.000020.\n"
     ]
    }
   ],
   "source": [
    "features = ['years_of_experience', 'qualification', 'physics', 'chemistry', 'biology', \n",
    "            'english', 'history', 'geography']\n",
    "target = 'choose'\n",
    "\n",
    "for feature in features:\n",
    "    print(f'Взаимная информация признака {feature} с целевой переменной: {mut_info(df[feature], df[target]):.6f}.')"
   ]
  },
  {
   "cell_type": "markdown",
   "metadata": {},
   "source": [
    "Из полученных результатов следует, что наиболее полезными дискретными признаками являются `physics`, `chemistry` и `biology`. В свою очередь `history` и `geography` скорее всего будут бесполезны при предсказании искомой вероятности."
   ]
  },
  {
   "cell_type": "markdown",
   "metadata": {},
   "source": [
    "Изучим также числовые признаки, которые представлены непрерывными значениями - `Id`, `age`, `lesson_price` и `mean_exam_points`. Признак `Id` очевидно не несет никакой смысловой нагрузки и отображает номер наблюдения в датасете. Проанализируем остальные."
   ]
  },
  {
   "cell_type": "code",
   "execution_count": 121,
   "metadata": {},
   "outputs": [],
   "source": [
    "target = df['choose']"
   ]
  },
  {
   "cell_type": "code",
   "execution_count": 122,
   "metadata": {},
   "outputs": [
    {
     "data": {
      "image/png": "[encoded data removed]",
      "text/plain": [
       "<Figure size 864x576 with 1 Axes>"
      ]
     },
     "metadata": {},
     "output_type": "display_data"
    }
   ],
   "source": [
    "plt.figure(figsize=(12,8))\n",
    "sns.set(font_scale=1.2, style='whitegrid')\n",
    "plt.ticklabel_format(style='plain', axis='x')\n",
    "sns.kdeplot(df.loc[target == 0, 'age'], shade=True)\n",
    "plt.axvline(df.loc[target == 0, 'age'].mean(), color='b', \n",
    "            label='Mean age | choose = 0')\n",
    "sns.kdeplot(df.loc[target == 1, 'age'], shade=True, color='r')\n",
    "plt.axvline(df.loc[target == 1, 'age'].mean(), color='r', \n",
    "            label='Mean age | choose = 1')\n",
    "plt.title('Age grouped by target variable')\n",
    "plt.legend()\n",
    "plt.show()"
   ]
  },
  {
   "cell_type": "markdown",
   "metadata": {},
   "source": [
    "Как видим распределения признака `age` и средние значения для разных классов целевой переменной довольно близки, что скорее указывает на незначительную роль этого признака в классификации."
   ]
  },
  {
   "cell_type": "code",
   "execution_count": 123,
   "metadata": {},
   "outputs": [
    {
     "data": {
      "image/png": "[encoded data removed]",
      "text/plain": [
       "<Figure size 864x576 with 1 Axes>"
      ]
     },
     "metadata": {},
     "output_type": "display_data"
    }
   ],
   "source": [
    "plt.figure(figsize=(12,8))\n",
    "sns.set(font_scale=1.2, style='whitegrid')\n",
    "plt.ticklabel_format(style='plain', axis='x')\n",
    "sns.kdeplot(df.loc[target == 0, 'lesson_price'], shade=True)\n",
    "plt.axvline(df.loc[target == 0, 'lesson_price'].mean(), color='b', \n",
    "            label='Mean lesson price | choose = 0')\n",
    "sns.kdeplot(df.loc[target == 1, 'lesson_price'], shade=True, color='r')\n",
    "plt.axvline(df.loc[target == 1, 'lesson_price'].mean(), color='r', \n",
    "            label='Mean lesson price | choose = 1')\n",
    "plt.title('Lesson price grouped by target variable')\n",
    "plt.legend()\n",
    "plt.show()"
   ]
  },
  {
   "cell_type": "markdown",
   "metadata": {},
   "source": [
    "Для данного признака формы распределений для разных классов целевой переменной в определенной степени похожи, в обоих случаях отчетливо видны две моды. Однако средние значения заметно различаются. Это может указывать на важность признака `lesson_price` для предсказания вероятности того, что репетитор подойдет для подготовки к экзамену по математике."
   ]
  },
  {
   "cell_type": "code",
   "execution_count": 124,
   "metadata": {},
   "outputs": [
    {
     "data": {
      "image/png": "[encoded data removed]",
      "text/plain": [
       "<Figure size 864x576 with 1 Axes>"
      ]
     },
     "metadata": {},
     "output_type": "display_data"
    }
   ],
   "source": [
    "plt.figure(figsize=(12,8))\n",
    "sns.set(font_scale=1.2, style='whitegrid')\n",
    "plt.ticklabel_format(style='plain', axis='x')\n",
    "sns.kdeplot(df.loc[target == 0, 'mean_exam_points'], shade=True)\n",
    "plt.axvline(df.loc[target == 0, 'mean_exam_points'].mean(), color='b', \n",
    "            label='Mean mean_exam_points value | choose = 0')\n",
    "sns.kdeplot(df.loc[target == 1, 'mean_exam_points'], shade=True, color='r')\n",
    "plt.axvline(df.loc[target == 1, 'mean_exam_points'].mean(), color='r', \n",
    "            label='Mean mean_exam_points value | choose = 1')\n",
    "plt.title('Mean exam points grouped by target variable')\n",
    "plt.legend()\n",
    "plt.show()"
   ]
  },
  {
   "cell_type": "markdown",
   "metadata": {},
   "source": [
    "Данный график указывает на важность признака `mean_exam_points` для разделения целевой переменной."
   ]
  },
  {
   "cell_type": "markdown",
   "metadata": {},
   "source": [
    "## 3. Полезные функции <a class=\"anchor\" id=\"useful_func\"></a>"
   ]
  },
  {
   "cell_type": "markdown",
   "metadata": {},
   "source": [
    "Прежде всего реализуем ряд функций, которые будут полезны при дальнейшей работе."
   ]
  },
  {
   "cell_type": "code",
   "execution_count": 125,
   "metadata": {},
   "outputs": [],
   "source": [
    "# Стандартизация данных\n",
    "def standard_scale(X_train, X_test, feature):\n",
    "    mean_value = np.mean(X_train[feature])\n",
    "    std_value = np.std(X_train[feature])\n",
    "    X_train.loc[:, feature] = (X_train[feature] - mean_value) / std_value\n",
    "    X_test.loc[:, feature] = (X_test[feature] - mean_value) / std_value\n",
    "    \n",
    "# Нормализация данных \n",
    "def norm_scale(X_train, X_test, feature):\n",
    "    min_value = np.min(X_train[feature])\n",
    "    max_value = np.max(X_train[feature])\n",
    "    X_train.loc[:, feature] = (X_train[feature] - min_value) / (max_value - min_value)\n",
    "    X_test.loc[:, feature] = (X_test[feature] - min_value) / (max_value - min_value)"
   ]
  },
  {
   "cell_type": "markdown",
   "metadata": {},
   "source": [
    "Наш датасет несбалансирован, поэтому `accuracy` будет не очень показательна в данной задаче. В качестве метрики, которая используется для оценки качества модели в соревновании задана площадь под кривой ошибок. Реализуем расчет данного показателя, для сравнения моделей."
   ]
  },
  {
   "cell_type": "code",
   "execution_count": 126,
   "metadata": {},
   "outputs": [],
   "source": [
    "def recall(y_true, y_pred, class_value=1):\n",
    "    tp = np.sum((y_true == y_pred) & (y_true == class_value))\n",
    "    recall = tp/np.sum(y_true == class_value)\n",
    "    return recall\n",
    "\n",
    "def fpr(y_true, y_pred, class_value=1):\n",
    "    fp = np.sum((y_pred == class_value) & (y_true != class_value))\n",
    "    fpr = fp/np.sum(y_true != class_value)\n",
    "    return fpr\n",
    "\n",
    "def roc_auc(y_test, test_answers_prob):\n",
    "    unique_pr = sorted(np.unique(test_answers_prob), reverse=True)\n",
    "    TPR = []\n",
    "    FPR = []\n",
    "\n",
    "    for prob in unique_pr:\n",
    "        y_pred = test_answers_prob\n",
    "        y_pred[y_pred > prob] = 1\n",
    "        TPR.append(recall(y_test, y_pred))\n",
    "        FPR.append(fpr(y_test, y_pred))\n",
    "\n",
    "    TPR.append(1)\n",
    "    FPR.append(1)\n",
    "    \n",
    "    return np.trapz(TPR, x = FPR)"
   ]
  },
  {
   "cell_type": "markdown",
   "metadata": {},
   "source": [
    "## 4. Подготовка данных <a class=\"anchor\" id=\"data_preprocess\"></a>"
   ]
  },
  {
   "cell_type": "markdown",
   "metadata": {},
   "source": [
    "Выделим целевую переменную из тренировочного датасета."
   ]
  },
  {
   "cell_type": "code",
   "execution_count": 127,
   "metadata": {},
   "outputs": [
    {
     "data": {
      "text/html": [
       "<div>\n",
       "<style scoped>\n",
       "    .dataframe tbody tr th:only-of-type {\n",
       "        vertical-align: middle;\n",
       "    }\n",
       "\n",
       "    .dataframe tbody tr th {\n",
       "        vertical-align: top;\n",
       "    }\n",
       "\n",
       "    .dataframe thead th {\n",
       "        text-align: right;\n",
       "    }\n",
       "</style>\n",
       "<table border=\"1\" class=\"dataframe\">\n",
       "  <thead>\n",
       "    <tr style=\"text-align: right;\">\n",
       "      <th></th>\n",
       "      <th>Id</th>\n",
       "      <th>age</th>\n",
       "      <th>years_of_experience</th>\n",
       "      <th>lesson_price</th>\n",
       "      <th>qualification</th>\n",
       "      <th>physics</th>\n",
       "      <th>chemistry</th>\n",
       "      <th>biology</th>\n",
       "      <th>english</th>\n",
       "      <th>geography</th>\n",
       "      <th>history</th>\n",
       "      <th>mean_exam_points</th>\n",
       "    </tr>\n",
       "  </thead>\n",
       "  <tbody>\n",
       "    <tr>\n",
       "      <th>0</th>\n",
       "      <td>0</td>\n",
       "      <td>35.0</td>\n",
       "      <td>0.0</td>\n",
       "      <td>2150.0</td>\n",
       "      <td>2.0</td>\n",
       "      <td>0.0</td>\n",
       "      <td>0.0</td>\n",
       "      <td>0.0</td>\n",
       "      <td>0.0</td>\n",
       "      <td>0.0</td>\n",
       "      <td>0.0</td>\n",
       "      <td>74.0</td>\n",
       "    </tr>\n",
       "    <tr>\n",
       "      <th>1</th>\n",
       "      <td>1</td>\n",
       "      <td>52.0</td>\n",
       "      <td>2.0</td>\n",
       "      <td>1250.0</td>\n",
       "      <td>2.0</td>\n",
       "      <td>1.0</td>\n",
       "      <td>0.0</td>\n",
       "      <td>1.0</td>\n",
       "      <td>0.0</td>\n",
       "      <td>0.0</td>\n",
       "      <td>1.0</td>\n",
       "      <td>57.0</td>\n",
       "    </tr>\n",
       "    <tr>\n",
       "      <th>2</th>\n",
       "      <td>2</td>\n",
       "      <td>29.0</td>\n",
       "      <td>3.0</td>\n",
       "      <td>1750.0</td>\n",
       "      <td>1.0</td>\n",
       "      <td>1.0</td>\n",
       "      <td>0.0</td>\n",
       "      <td>0.0</td>\n",
       "      <td>0.0</td>\n",
       "      <td>0.0</td>\n",
       "      <td>0.0</td>\n",
       "      <td>66.0</td>\n",
       "    </tr>\n",
       "    <tr>\n",
       "      <th>3</th>\n",
       "      <td>3</td>\n",
       "      <td>33.0</td>\n",
       "      <td>3.0</td>\n",
       "      <td>1050.0</td>\n",
       "      <td>1.0</td>\n",
       "      <td>0.0</td>\n",
       "      <td>0.0</td>\n",
       "      <td>0.0</td>\n",
       "      <td>0.0</td>\n",
       "      <td>0.0</td>\n",
       "      <td>0.0</td>\n",
       "      <td>66.0</td>\n",
       "    </tr>\n",
       "    <tr>\n",
       "      <th>4</th>\n",
       "      <td>4</td>\n",
       "      <td>46.0</td>\n",
       "      <td>3.0</td>\n",
       "      <td>2250.0</td>\n",
       "      <td>2.0</td>\n",
       "      <td>1.0</td>\n",
       "      <td>0.0</td>\n",
       "      <td>0.0</td>\n",
       "      <td>0.0</td>\n",
       "      <td>0.0</td>\n",
       "      <td>0.0</td>\n",
       "      <td>73.0</td>\n",
       "    </tr>\n",
       "  </tbody>\n",
       "</table>\n",
       "</div>"
      ],
      "text/plain": [
       "   Id   age  years_of_experience  lesson_price  qualification  physics  \\\n",
       "0   0  35.0                  0.0        2150.0            2.0      0.0   \n",
       "1   1  52.0                  2.0        1250.0            2.0      1.0   \n",
       "2   2  29.0                  3.0        1750.0            1.0      1.0   \n",
       "3   3  33.0                  3.0        1050.0            1.0      0.0   \n",
       "4   4  46.0                  3.0        2250.0            2.0      1.0   \n",
       "\n",
       "   chemistry  biology  english  geography  history  mean_exam_points  \n",
       "0        0.0      0.0      0.0        0.0      0.0              74.0  \n",
       "1        0.0      1.0      0.0        0.0      1.0              57.0  \n",
       "2        0.0      0.0      0.0        0.0      0.0              66.0  \n",
       "3        0.0      0.0      0.0        0.0      0.0              66.0  \n",
       "4        0.0      0.0      0.0        0.0      0.0              73.0  "
      ]
     },
     "execution_count": 127,
     "metadata": {},
     "output_type": "execute_result"
    }
   ],
   "source": [
    "y = df['choose']\n",
    "X = df.drop(columns=['choose'])\n",
    "X.head()"
   ]
  },
  {
   "cell_type": "markdown",
   "metadata": {},
   "source": [
    "Разделим датасет на обучающую и валидационную выборки."
   ]
  },
  {
   "cell_type": "code",
   "execution_count": 128,
   "metadata": {},
   "outputs": [
    {
     "data": {
      "text/html": [
       "<div>\n",
       "<style scoped>\n",
       "    .dataframe tbody tr th:only-of-type {\n",
       "        vertical-align: middle;\n",
       "    }\n",
       "\n",
       "    .dataframe tbody tr th {\n",
       "        vertical-align: top;\n",
       "    }\n",
       "\n",
       "    .dataframe thead th {\n",
       "        text-align: right;\n",
       "    }\n",
       "</style>\n",
       "<table border=\"1\" class=\"dataframe\">\n",
       "  <thead>\n",
       "    <tr style=\"text-align: right;\">\n",
       "      <th></th>\n",
       "      <th>Id</th>\n",
       "      <th>age</th>\n",
       "      <th>years_of_experience</th>\n",
       "      <th>lesson_price</th>\n",
       "      <th>qualification</th>\n",
       "      <th>physics</th>\n",
       "      <th>chemistry</th>\n",
       "      <th>biology</th>\n",
       "      <th>english</th>\n",
       "      <th>geography</th>\n",
       "      <th>history</th>\n",
       "      <th>mean_exam_points</th>\n",
       "    </tr>\n",
       "  </thead>\n",
       "  <tbody>\n",
       "    <tr>\n",
       "      <th>9254</th>\n",
       "      <td>9254</td>\n",
       "      <td>50.0</td>\n",
       "      <td>0.0</td>\n",
       "      <td>1700.0</td>\n",
       "      <td>2.0</td>\n",
       "      <td>0.0</td>\n",
       "      <td>0.0</td>\n",
       "      <td>1.0</td>\n",
       "      <td>0.0</td>\n",
       "      <td>0.0</td>\n",
       "      <td>0.0</td>\n",
       "      <td>61.0</td>\n",
       "    </tr>\n",
       "    <tr>\n",
       "      <th>1561</th>\n",
       "      <td>1561</td>\n",
       "      <td>42.0</td>\n",
       "      <td>5.0</td>\n",
       "      <td>1750.0</td>\n",
       "      <td>2.0</td>\n",
       "      <td>0.0</td>\n",
       "      <td>1.0</td>\n",
       "      <td>1.0</td>\n",
       "      <td>0.0</td>\n",
       "      <td>0.0</td>\n",
       "      <td>0.0</td>\n",
       "      <td>68.0</td>\n",
       "    </tr>\n",
       "    <tr>\n",
       "      <th>1670</th>\n",
       "      <td>1670</td>\n",
       "      <td>44.0</td>\n",
       "      <td>4.0</td>\n",
       "      <td>1300.0</td>\n",
       "      <td>2.0</td>\n",
       "      <td>0.0</td>\n",
       "      <td>1.0</td>\n",
       "      <td>1.0</td>\n",
       "      <td>0.0</td>\n",
       "      <td>0.0</td>\n",
       "      <td>0.0</td>\n",
       "      <td>56.0</td>\n",
       "    </tr>\n",
       "    <tr>\n",
       "      <th>6087</th>\n",
       "      <td>6087</td>\n",
       "      <td>40.0</td>\n",
       "      <td>2.0</td>\n",
       "      <td>1450.0</td>\n",
       "      <td>1.0</td>\n",
       "      <td>0.0</td>\n",
       "      <td>0.0</td>\n",
       "      <td>0.0</td>\n",
       "      <td>0.0</td>\n",
       "      <td>0.0</td>\n",
       "      <td>0.0</td>\n",
       "      <td>61.0</td>\n",
       "    </tr>\n",
       "    <tr>\n",
       "      <th>6669</th>\n",
       "      <td>6669</td>\n",
       "      <td>59.0</td>\n",
       "      <td>8.0</td>\n",
       "      <td>2150.0</td>\n",
       "      <td>3.0</td>\n",
       "      <td>0.0</td>\n",
       "      <td>0.0</td>\n",
       "      <td>0.0</td>\n",
       "      <td>0.0</td>\n",
       "      <td>0.0</td>\n",
       "      <td>0.0</td>\n",
       "      <td>86.0</td>\n",
       "    </tr>\n",
       "  </tbody>\n",
       "</table>\n",
       "</div>"
      ],
      "text/plain": [
       "        Id   age  years_of_experience  lesson_price  qualification  physics  \\\n",
       "9254  9254  50.0                  0.0        1700.0            2.0      0.0   \n",
       "1561  1561  42.0                  5.0        1750.0            2.0      0.0   \n",
       "1670  1670  44.0                  4.0        1300.0            2.0      0.0   \n",
       "6087  6087  40.0                  2.0        1450.0            1.0      0.0   \n",
       "6669  6669  59.0                  8.0        2150.0            3.0      0.0   \n",
       "\n",
       "      chemistry  biology  english  geography  history  mean_exam_points  \n",
       "9254        0.0      1.0      0.0        0.0      0.0              61.0  \n",
       "1561        1.0      1.0      0.0        0.0      0.0              68.0  \n",
       "1670        1.0      1.0      0.0        0.0      0.0              56.0  \n",
       "6087        0.0      0.0      0.0        0.0      0.0              61.0  \n",
       "6669        0.0      0.0      0.0        0.0      0.0              86.0  "
      ]
     },
     "execution_count": 128,
     "metadata": {},
     "output_type": "execute_result"
    }
   ],
   "source": [
    "X_train, X_test, y_train, y_test = train_test_split(X, y, test_size=0.2, random_state=42)\n",
    "X_train.head()"
   ]
  },
  {
   "cell_type": "markdown",
   "metadata": {},
   "source": [
    "## 5. Базовая модель <a class=\"anchor\" id=\"base_model\"></a>"
   ]
  },
  {
   "cell_type": "markdown",
   "metadata": {},
   "source": [
    "Перейдем к построению базовой модели. В качестве такой возьмем логистическую регрессию. Реализуем функции, которые будут необходимы при обучении и предсказании."
   ]
  },
  {
   "cell_type": "code",
   "execution_count": 129,
   "metadata": {},
   "outputs": [],
   "source": [
    "def sigmoid(x):\n",
    "    return 1 / (1 + np.exp(-x))\n",
    "\n",
    "# Расчет ошибки\n",
    "def calc_logloss(y, y_pred, delta=1e-16):\n",
    "    y_pred[y_pred == 0] = delta\n",
    "    y_pred[y_pred == 1] = 1 - delta\n",
    "    err = - np.mean(y * np.log(y_pred) + (1.0 - y) * np.log(1.0 - y_pred))\n",
    "    return err\n",
    "\n",
    "# Градиентный спуск\n",
    "def eval_model(X, y, iterations, eta=1e-4):\n",
    "    np.random.seed(42)\n",
    "    W = np.random.randn(X.shape[1])\n",
    "    n = X.shape[0]\n",
    "    \n",
    "    for i in range(iterations):\n",
    "        z = np.dot(X, W)\n",
    "        y_pred = sigmoid(z)\n",
    "        err = calc_logloss(y, y_pred)\n",
    "        \n",
    "        dQ = 1/n * X.T @ (y_pred - y)\n",
    "        W -= eta * dQ\n",
    "    return W\n",
    "\n",
    "# Расчет вероятностей\n",
    "def calc_pred_proba(W, X):\n",
    "    y_pred_proba = sigmoid(np.dot(X, W))\n",
    "    return y_pred_proba"
   ]
  },
  {
   "cell_type": "markdown",
   "metadata": {},
   "source": [
    "Проведем стандартизацию данных, потому что данная модель базируется на градиентном спуске и чувствительна к размерностям признаков. После этого преобразуем данные в numpy массивы, для удобства работы."
   ]
  },
  {
   "cell_type": "code",
   "execution_count": 130,
   "metadata": {},
   "outputs": [],
   "source": [
    "Z_train = X_train.copy()\n",
    "Z_test = X_test.copy()\n",
    "\n",
    "for column in Z_train.columns:\n",
    "    standard_scale(Z_train, Z_test, column)\n",
    "    \n",
    "Z_train = Z_train.to_numpy()\n",
    "Z_test = Z_test.to_numpy()\n",
    "y_train = y_train.to_numpy()\n",
    "y_test = y_test.to_numpy()"
   ]
  },
  {
   "cell_type": "markdown",
   "metadata": {},
   "source": [
    "Теперь обучим модель, сделаем предсказания и посчитаем значения метрик."
   ]
  },
  {
   "cell_type": "code",
   "execution_count": 131,
   "metadata": {},
   "outputs": [
    {
     "name": "stdout",
     "output_type": "stream",
     "text": [
      "Train - 0.848564.\n",
      "Test - 0.849514.\n"
     ]
    }
   ],
   "source": [
    "W = eval_model(Z_train, y_train, iterations=1000, eta=1e-1)\n",
    "y_train_pred_proba = calc_pred_proba(W, Z_train)\n",
    "y_test_pred_proba = calc_pred_proba(W, Z_test)\n",
    "print(f'Train - {roc_auc(y_train, y_train_pred_proba):6f}.')\n",
    "print(f'Test - {roc_auc(y_test, y_test_pred_proba):6f}.')"
   ]
  },
  {
   "cell_type": "markdown",
   "metadata": {},
   "source": [
    "Попробуем посчитать модель, удалив ряд признаков, которые мы классифицировали ранее как малополезные."
   ]
  },
  {
   "cell_type": "code",
   "execution_count": 132,
   "metadata": {},
   "outputs": [
    {
     "name": "stdout",
     "output_type": "stream",
     "text": [
      "Train - 0.848548.\n",
      "Test - 0.850065.\n"
     ]
    }
   ],
   "source": [
    "Z_train = X_train.copy()\n",
    "Z_test = X_test.copy()\n",
    "\n",
    "Z_train.drop(columns=['Id', 'age', 'history', 'geography'], inplace=True)\n",
    "Z_test.drop(columns=['Id', 'age', 'history', 'geography'], inplace=True)\n",
    "\n",
    "for column in Z_train.columns:\n",
    "    standard_scale(Z_train, Z_test, column)\n",
    "    \n",
    "Z_train = Z_train.to_numpy()\n",
    "Z_test = Z_test.to_numpy()\n",
    "\n",
    "W = eval_model(Z_train, y_train, iterations=1000, eta=1e-1)\n",
    "y_train_pred_proba = calc_pred_proba(W, Z_train)\n",
    "y_test_pred_proba = calc_pred_proba(W, Z_test)\n",
    "print(f'Train - {roc_auc(y_train, y_train_pred_proba):6f}.')\n",
    "print(f'Test - {roc_auc(y_test, y_test_pred_proba):6f}.')"
   ]
  },
  {
   "cell_type": "markdown",
   "metadata": {},
   "source": [
    "Как видим значения метрик несколько улучшились."
   ]
  },
  {
   "cell_type": "markdown",
   "metadata": {},
   "source": [
    "## 6. Случайный лес <a class=\"anchor\" id=\"random_forest\"></a>"
   ]
  },
  {
   "cell_type": "markdown",
   "metadata": {},
   "source": [
    "Попробуем применить алгоритм бэггинга к данной задаче и построить случайный лес. Реализуем необходимые классы и функции для построения одного дерева."
   ]
  },
  {
   "cell_type": "code",
   "execution_count": 133,
   "metadata": {},
   "outputs": [],
   "source": [
    "# Расчет критерия Джини\n",
    "\n",
    "def gini(labels):\n",
    "    #  подсчет количества объектов разных классов\n",
    "    classes = {}\n",
    "    for label in labels:\n",
    "        if label not in classes:\n",
    "            classes[label] = 0\n",
    "        classes[label] += 1\n",
    "    \n",
    "    #  расчет критерия\n",
    "    impurity = 1\n",
    "    for label in classes:\n",
    "        p = classes[label] / len(labels)\n",
    "        impurity -= p ** 2\n",
    "        \n",
    "    return impurity\n",
    "\n",
    "\n",
    "# Расчет прироста\n",
    "\n",
    "def gain(left_labels, right_labels, root_gini):\n",
    "\n",
    "    # доля выборки, ушедшая в левое поддерево\n",
    "    p = float(left_labels.shape[0]) / (left_labels.shape[0] + right_labels.shape[0])\n",
    "    \n",
    "    return root_gini - p * gini(left_labels) - (1 - p) * gini(right_labels)"
   ]
  },
  {
   "cell_type": "code",
   "execution_count": 134,
   "metadata": {},
   "outputs": [],
   "source": [
    "np.random.seed(42)\n",
    "\n",
    "def get_bootstrap(data, labels, N):\n",
    "    n_samples = data.shape[0] # размер совпадает с исходной выборкой\n",
    "    bootstrap = []\n",
    "    \n",
    "    for i in range(N):\n",
    "        \n",
    "        sample_index = np.random.randint(0, n_samples, size=n_samples)\n",
    "        b_data = data[sample_index]\n",
    "        b_labels = labels[sample_index]\n",
    "        \n",
    "        bootstrap.append((b_data, b_labels))\n",
    "        \n",
    "    return bootstrap\n",
    "\n",
    "def get_subsample(len_sample):\n",
    "    \n",
    "    # будем сохранять не сами признаки, а их индексы\n",
    "    sample_indexes = list(range(len_sample))\n",
    "\n",
    "    len_subsample = int(np.sqrt(len_sample))\n",
    "    \n",
    "    subsample = np.random.choice(sample_indexes, size=len_subsample, replace=False)\n",
    "\n",
    "    return subsample"
   ]
  },
  {
   "cell_type": "code",
   "execution_count": 135,
   "metadata": {},
   "outputs": [],
   "source": [
    "# Реализуем класс узла дерева\n",
    "\n",
    "class Node:\n",
    "    \n",
    "    def __init__(self, index, t, true_branch, false_branch):\n",
    "        self.index = index  # индекс признака, по которому ведется сравнение с порогом в этом узле\n",
    "        self.t = t  # значение порога\n",
    "        self.true_branch = true_branch  # поддерево, удовлетворяющее условию в узле\n",
    "        self.false_branch = false_branch  # поддерево, не удовлетворяющее условию в узле\n",
    "        \n",
    "# И класс терминального узла (листа)\n",
    "\n",
    "class Leaf:\n",
    "    \n",
    "    def __init__(self, data, labels, positive_class=1):\n",
    "        self.data = data\n",
    "        self.labels = labels\n",
    "        self.positive_class = positive_class\n",
    "        self.prediction = self.predict_proba()\n",
    "        \n",
    "    def predict_proba(self):\n",
    "        # подсчет количества объектов разных классов\n",
    "        classes = {}  # сформируем словарь \"класс: количество объектов\"\n",
    "        for label in self.labels:\n",
    "            if label not in classes:\n",
    "                classes[label] = 0\n",
    "            classes[label] += 1\n",
    "            \n",
    "        # так как пользуемся метрикой ROC_AUC, то возвращаем не метку класса, а вероятность принадлежности классу\n",
    "        \n",
    "        return classes.get(self.positive_class, 0) / sum(classes.values())"
   ]
  },
  {
   "cell_type": "markdown",
   "metadata": {},
   "source": [
    "Запишем функции, которые будут отвечать за формирование разбиений в дереве."
   ]
  },
  {
   "cell_type": "code",
   "execution_count": 136,
   "metadata": {},
   "outputs": [],
   "source": [
    "# Разбиение датасета в узле\n",
    "\n",
    "def split(data, labels, column_index, t):\n",
    "    \n",
    "    left = np.where(data[:, column_index] <= t)\n",
    "    right = np.where(data[:, column_index] > t)\n",
    "        \n",
    "    true_data = data[left]\n",
    "    false_data = data[right]\n",
    "    \n",
    "    true_labels = labels[left]\n",
    "    false_labels = labels[right]\n",
    "        \n",
    "    return true_data, false_data, true_labels, false_labels\n",
    "\n",
    "\n",
    "# Нахождение наилучшего разбиения\n",
    "\n",
    "def find_best_split(data, labels, min_samples_leaf):\n",
    "    \n",
    "    root_gini = gini(labels)\n",
    "\n",
    "    best_gain = 0\n",
    "    best_t = None\n",
    "    best_index = None\n",
    "    \n",
    "    feature_subsample_indices = get_subsample(data.shape[1])  # выбираем случайные признаки    \n",
    "    \n",
    "    for index in feature_subsample_indices:\n",
    "        # будем проверять только уникальные значения признака, исключая повторения\n",
    "        t_values = np.unique(data[:, index])\n",
    "        \n",
    "        for t in t_values:\n",
    "            true_data, false_data, true_labels, false_labels = split(data, labels, index, t)\n",
    "            #  пропускаем разбиения, в которых в узле остается менее заданного количества объектов\n",
    "            if len(true_data) < min_samples_leaf or len(false_data) < min_samples_leaf:\n",
    "                continue\n",
    "            \n",
    "            current_gain = gain(true_labels, false_labels, root_gini)\n",
    "            \n",
    "            #  выбираем порог, на котором получается максимальный прирост качества\n",
    "            if current_gain > best_gain:\n",
    "                best_gain, best_t, best_index = current_gain, t, index\n",
    "\n",
    "    return best_gain, best_t, best_index\n",
    "\n",
    "\n",
    "# Построение дерева с помощью рекурсивной функции\n",
    "\n",
    "def build_tree(data, labels, max_depth=100, min_samples_leaf=5):\n",
    "\n",
    "    gain, t, index = find_best_split(data, labels, min_samples_leaf)\n",
    "\n",
    "    #  Базовый случай - прекращаем рекурсию, когда нет прироста в качестве, или же мы достигли максимальной глубины\n",
    "    if (gain == 0) or (max_depth == 0):\n",
    "        return Leaf(data, labels)\n",
    "\n",
    "    true_data, false_data, true_labels, false_labels = split(data, labels, index, t)\n",
    "\n",
    "    # Рекурсивно строим два поддерева, уменьшаем параметр max_depth на 1\n",
    "    true_branch = build_tree(true_data, true_labels, max_depth-1, min_samples_leaf)\n",
    "    false_branch = build_tree(false_data, false_labels, max_depth-1, min_samples_leaf)\n",
    "    \n",
    "    \n",
    "    # Возвращаем класс узла со всеми поддеревьями\n",
    "    return Node(index, t, true_branch, false_branch)\n",
    "\n",
    "\n",
    "def get_probability(obj, node):\n",
    "\n",
    "    #  Останавливаем рекурсию, если достигли листа\n",
    "    if isinstance(node, Leaf):\n",
    "        return node.prediction\n",
    "\n",
    "    if obj[node.index] <= node.t:\n",
    "        return get_probability(obj, node.true_branch)\n",
    "    else:\n",
    "        return get_probability(obj, node.false_branch)\n",
    "    \n",
    "def predict_proba(data, tree):\n",
    "    \n",
    "    probabilities = []\n",
    "    for obj in data:\n",
    "        prob = get_probability(obj, tree)\n",
    "        probabilities.append(prob)\n",
    "    return probabilities"
   ]
  },
  {
   "cell_type": "markdown",
   "metadata": {},
   "source": [
    "Реализуем функции, отвечающие за формирование случайного леса из деревьев."
   ]
  },
  {
   "cell_type": "code",
   "execution_count": 137,
   "metadata": {},
   "outputs": [],
   "source": [
    "# Формирование случайного леса\n",
    "\n",
    "def random_forest(data, labels, n_trees, max_depth=15, min_samples_leaf=5):\n",
    "    forest = []\n",
    "    bootstrap = get_bootstrap(data, labels, n_trees)\n",
    "    \n",
    "    for b_data, b_labels in bootstrap:\n",
    "        forest.append(build_tree(b_data, b_labels, max_depth, min_samples_leaf))\n",
    "        \n",
    "    return forest\n",
    "\n",
    "# предсказание голосованием деревьев\n",
    "\n",
    "def tree_vote_proba(data, forest):\n",
    "    # добавим предсказания всех деревьев в список\n",
    "    probabilities = []\n",
    "    for tree in forest:\n",
    "        probabilities.append(predict_proba(data, tree))\n",
    "\n",
    "    # сформируем список с предсказаниями для каждого объекта\n",
    "    probabilities_per_object = list(zip(*probabilities))\n",
    "\n",
    "    # выберем в качестве итогового предсказания среднюю вероятность\n",
    "    avg_probabilities = []\n",
    "    for obj in probabilities_per_object:\n",
    "        avg_probabilities.append(np.average(obj))\n",
    "\n",
    "    return avg_probabilities"
   ]
  },
  {
   "cell_type": "markdown",
   "metadata": {},
   "source": [
    "Обучим модель с разными гиперпараметрами и рассчитаем метрики."
   ]
  },
  {
   "cell_type": "code",
   "execution_count": 525,
   "metadata": {},
   "outputs": [
    {
     "name": "stdout",
     "output_type": "stream",
     "text": [
      "min_samples_leaf = 3, max_depth = 5, n_trees = 50: train - 0.8196161391120955; test - 0.8040026514499231\n",
      "min_samples_leaf = 5, max_depth = 5, n_trees = 50: train - 0.8177881185854112; test - 0.7995819956170872\n",
      "min_samples_leaf = 7, max_depth = 5, n_trees = 50: train - 0.8133694667507515; test - 0.8039035759189845\n",
      "min_samples_leaf = 3, max_depth = 10, n_trees = 50: train - 0.8859750692019612; test - 0.8266520255048724\n",
      "min_samples_leaf = 5, max_depth = 10, n_trees = 50: train - 0.8782284556396691; test - 0.8258676775516077\n",
      "min_samples_leaf = 7, max_depth = 10, n_trees = 50: train - 0.8716049201237493; test - 0.8270400713343824\n",
      "min_samples_leaf = 3, max_depth = 100, n_trees = 50: train - 0.9171380013749932; test - 0.8258912669637359\n",
      "min_samples_leaf = 5, max_depth = 100, n_trees = 50: train - 0.899183290860172; test - 0.8273066316914316\n",
      "min_samples_leaf = 7, max_depth = 100, n_trees = 50: train - 0.8970941476205123; test - 0.8316753908175853\n",
      "min_samples_leaf = 3, max_depth = 250, n_trees = 50: train - 0.9159152557048004; test - 0.8282584644708069\n",
      "min_samples_leaf = 5, max_depth = 250, n_trees = 50: train - 0.9047513510859087; test - 0.8317414411715446\n",
      "min_samples_leaf = 7, max_depth = 250, n_trees = 50: train - 0.8912721530274403; test - 0.8304239725041813\n",
      "min_samples_leaf = 3, max_depth = 5, n_trees = 75: train - 0.8206874449162727; test - 0.809679443478589\n",
      "min_samples_leaf = 5, max_depth = 5, n_trees = 75: train - 0.8221116258002487; test - 0.8127614001731464\n",
      "min_samples_leaf = 7, max_depth = 5, n_trees = 75: train - 0.8199034306339184; test - 0.8089033518195693\n",
      "min_samples_leaf = 3, max_depth = 10, n_trees = 75: train - 0.8828514503335393; test - 0.8236691443412539\n",
      "min_samples_leaf = 5, max_depth = 10, n_trees = 75: train - 0.8788805758947149; test - 0.8247283089458128\n",
      "min_samples_leaf = 7, max_depth = 10, n_trees = 75: train - 0.8763426052761488; test - 0.8283410274132559\n",
      "min_samples_leaf = 3, max_depth = 100, n_trees = 75: train - 0.9161503711447851; test - 0.8237564251661285\n",
      "min_samples_leaf = 5, max_depth = 100, n_trees = 75: train - 0.9025118987312327; test - 0.830249410854432\n",
      "min_samples_leaf = 7, max_depth = 100, n_trees = 75: train - 0.8962260539245459; test - 0.8324821487123719\n",
      "min_samples_leaf = 3, max_depth = 250, n_trees = 75: train - 0.909102561700236; test - 0.8260115729655901\n",
      "min_samples_leaf = 5, max_depth = 250, n_trees = 75: train - 0.9049444672030519; test - 0.8314512914023671\n",
      "min_samples_leaf = 7, max_depth = 250, n_trees = 75: train - 0.8917277649123443; test - 0.8287019454188183\n",
      "min_samples_leaf = 3, max_depth = 5, n_trees = 150: train - 0.8259397833093398; test - 0.8144291716106142\n",
      "min_samples_leaf = 5, max_depth = 5, n_trees = 150: train - 0.8224992310893202; test - 0.8117034150391937\n",
      "min_samples_leaf = 7, max_depth = 5, n_trees = 150: train - 0.8269625475884634; test - 0.8142923530202704\n",
      "min_samples_leaf = 3, max_depth = 10, n_trees = 150: train - 0.8844378939859554; test - 0.8268348434488664\n",
      "min_samples_leaf = 5, max_depth = 10, n_trees = 150: train - 0.8770561899248148; test - 0.8261401352616891\n",
      "min_samples_leaf = 7, max_depth = 10, n_trees = 150: train - 0.8746522132996993; test - 0.8279140590537343\n",
      "min_samples_leaf = 3, max_depth = 100, n_trees = 150: train - 0.9170876021875833; test - 0.8275696536366617\n",
      "min_samples_leaf = 5, max_depth = 100, n_trees = 150: train - 0.9043462999242721; test - 0.8313675489893115\n",
      "min_samples_leaf = 7, max_depth = 100, n_trees = 150: train - 0.8952915689913183; test - 0.8293317827226429\n",
      "min_samples_leaf = 3, max_depth = 250, n_trees = 150: train - 0.9177759064746156; test - 0.8270294560989246\n",
      "min_samples_leaf = 5, max_depth = 250, n_trees = 150: train - 0.9024608534003944; test - 0.8285627678872614\n",
      "min_samples_leaf = 7, max_depth = 250, n_trees = 150: train - 0.896574809839989; test - 0.8343539685647495\n"
     ]
    }
   ],
   "source": [
    "min_leafs_list = [3, 5, 7]\n",
    "max_depth_list = [5, 10, 100, 250]\n",
    "n_trees = [50, 75, 150]\n",
    "\n",
    "for n in n_trees:\n",
    "    for depth in max_depth_list:\n",
    "        for leaf in min_leafs_list:\n",
    "            forest = random_forest(Z_train, y_train, n_trees=n, min_samples_leaf=leaf, max_depth=depth)\n",
    "            train_answers_forest_pr = tree_vote_proba(Z_train, forest)\n",
    "            test_answers_forest_pr = tree_vote_proba(Z_test, forest)\n",
    "            print(f'min_samples_leaf = {leaf}, max_depth = {depth}, n_trees = {n}: train - '\n",
    "                  f'{roc_auc(y_train, np.array(train_answers_forest_pr))}; test - '\n",
    "                 f'{roc_auc(y_test, np.array(test_answers_forest_pr))}')"
   ]
  },
  {
   "cell_type": "markdown",
   "metadata": {},
   "source": [
    "Заметим, что так как в данном случае мы работаем с деревьями, то размерность признаков не так важна, а значит можно не проводить процедуру масштабирования перед обучением модели."
   ]
  },
  {
   "cell_type": "code",
   "execution_count": 34,
   "metadata": {},
   "outputs": [
    {
     "name": "stdout",
     "output_type": "stream",
     "text": [
      "Train - 0.99987206360119.\n",
      "Test - 0.8150495731495876.\n"
     ]
    }
   ],
   "source": [
    "XX_train = X_train.to_numpy()\n",
    "XX_test = X_test.to_numpy()\n",
    "\n",
    "\n",
    "forest = random_forest(XX_train, y_train, n_trees=100, min_samples_leaf=1, max_depth=100)\n",
    "train_answers_forest_pr = tree_vote_proba(XX_train, forest)\n",
    "test_answers_forest_pr = tree_vote_proba(XX_test, forest)\n",
    "print(f'Train - {roc_auc(y_train, np.array(train_answers_forest_pr))}.')\n",
    "print(f'Test - {roc_auc(y_test, np.array(test_answers_forest_pr))}.')"
   ]
  },
  {
   "cell_type": "markdown",
   "metadata": {},
   "source": [
    "Как видим из предыдущих примеров модель легко переобучается, однако ограничение глубины деревьев и особенно количества объектов в листе, позволяет уменьшить величину переобучения."
   ]
  },
  {
   "cell_type": "code",
   "execution_count": 35,
   "metadata": {},
   "outputs": [
    {
     "name": "stdout",
     "output_type": "stream",
     "text": [
      "Train - 0.8828192239300512.\n",
      "Test - 0.8218079397243342.\n"
     ]
    }
   ],
   "source": [
    "forest = random_forest(XX_train, y_train, n_trees=75, min_samples_leaf=21, max_depth=10)\n",
    "train_answers_forest_pr = tree_vote_proba(XX_train, forest)\n",
    "test_answers_forest_pr = tree_vote_proba(XX_test, forest)\n",
    "print(f'Train - {roc_auc(y_train, np.array(train_answers_forest_pr))}.')\n",
    "print(f'Test - {roc_auc(y_test, np.array(test_answers_forest_pr))}.')"
   ]
  },
  {
   "cell_type": "code",
   "execution_count": 33,
   "metadata": {},
   "outputs": [
    {
     "name": "stdout",
     "output_type": "stream",
     "text": [
      "Train - 0.8593581598868991.\n",
      "Test - 0.8281664657635067.\n"
     ]
    }
   ],
   "source": [
    "forest = random_forest(Z_train, y_train, n_trees=75, min_samples_leaf=21, max_depth=10)\n",
    "train_answers_forest_pr = tree_vote_proba(Z_train, forest)\n",
    "test_answers_forest_pr = tree_vote_proba(Z_test, forest)\n",
    "print(f'Train - {roc_auc(y_train, np.array(train_answers_forest_pr))}.')\n",
    "print(f'Test - {roc_auc(y_test, np.array(test_answers_forest_pr))}.')"
   ]
  },
  {
   "cell_type": "markdown",
   "metadata": {},
   "source": [
    "Тем не менее улучшения оценок по сравнению с моделью логистической регрессии добиться не получается. Попробуем реализовать стохастический бустинг и проанализировать результаты."
   ]
  },
  {
   "cell_type": "markdown",
   "metadata": {},
   "source": [
    "## 7. Стохастический градиентный бустинг <a class=\"anchor\" id=\"sgb\"></a>"
   ]
  },
  {
   "cell_type": "markdown",
   "metadata": {},
   "source": [
    "Реализуем функции необходимые для обучения модели и построения предсказаний. Для начала модифицируем ряд функций, связанных с построением дерева, так чтобы их можно было использовать в стохастическом бустинге. Например, в качестве значения листа будет возвращать гамму, которая рассчитывается на основе предыдущих вероятностей объектов (которые с этой целью тоже нужно будет хранить в листе)."
   ]
  },
  {
   "cell_type": "code",
   "execution_count": 138,
   "metadata": {},
   "outputs": [],
   "source": [
    "# Реализуем класс узла\n",
    "\n",
    "class Node:\n",
    "    \n",
    "    def __init__(self, index, t, true_branch, false_branch):\n",
    "        self.index = index  # индекс признака, по которому ведется сравнение с порогом в этом узле\n",
    "        self.t = t  # значение порога\n",
    "        self.true_branch = true_branch  # поддерево, удовлетворяющее условию в узле\n",
    "        self.false_branch = false_branch  # поддерево, не удовлетворяющее условию в узле\n",
    "\n",
    "\n",
    "\n",
    "# И класс терминального узла (листа)\n",
    "\n",
    "class Leaf:\n",
    "    \n",
    "    def __init__(self, data, values, probs):\n",
    "        self.data = data\n",
    "        self.values = values\n",
    "        self.probs = probs\n",
    "        self.prediction = self.predict()\n",
    "        \n",
    "    def predict(self):\n",
    "        # Рассчитываем гамму\n",
    "        return np.sum(self.values) / np.sum([p*(1-p) for p in self.probs])\n",
    "\n",
    "\n",
    "# Расчет прироста\n",
    "\n",
    "def gain(left_values, right_values, root_var):\n",
    "\n",
    "    # доля выборки, ушедшая в левое поддерево\n",
    "    p = float(left_values.shape[0]) / (left_values.shape[0] + right_values.shape[0])\n",
    "    \n",
    "    return root_var - p * np.var(left_values) - (1 - p) * np.var(right_values)\n",
    "\n",
    "\n",
    "# Разбиение датасета в узле\n",
    "\n",
    "def split(data, values, probs, column_index, t):\n",
    "    \n",
    "    left = np.where(data[:, column_index] <= t)\n",
    "    right = np.where(data[:, column_index] > t)\n",
    "        \n",
    "    true_data = data[left]\n",
    "    false_data = data[right]\n",
    "    \n",
    "    true_values = values[left]\n",
    "    false_values = values[right]\n",
    "    \n",
    "    true_probs = probs[left]\n",
    "    false_probs = probs[right]\n",
    "        \n",
    "    return true_data, false_data, true_values, false_values, true_probs, false_probs\n",
    "\n",
    "\n",
    "\n",
    "# Нахождение наилучшего разбиения\n",
    "\n",
    "def find_best_split(data, values, probs, min_samples_leaf):\n",
    "\n",
    "    # В начальном узле, который будем делить, считаем дисперсию\n",
    "    root_var = np.var(values)\n",
    "\n",
    "    best_gain = 0\n",
    "    best_t = None\n",
    "    best_index = None\n",
    "    \n",
    "    n_features = data.shape[1]\n",
    "    \n",
    "    for index in range(n_features):\n",
    "        # будем проверять только уникальные значения признака, исключая повторения\n",
    "        t_values = np.unique(data[:, index])\n",
    "        \n",
    "        for t in t_values:\n",
    "            true_data, false_data, true_values, false_values, true_probs, false_probs = split(data, values, probs, index, t)\n",
    "            #  пропускаем разбиения, в которых в узле остается менее 5 объектов\n",
    "            if len(true_data) < min_samples_leaf or len(false_data) < min_samples_leaf:\n",
    "                continue\n",
    "            \n",
    "            current_gain = gain(true_values, false_values, root_var)\n",
    "            \n",
    "            #  выбираем порог, на котором получается максимальный прирост качества\n",
    "            if current_gain > best_gain:\n",
    "                best_gain, best_t, best_index = current_gain, t, index\n",
    "\n",
    "    return best_gain, best_t, best_index\n",
    "\n",
    "\n",
    "\n",
    "# Построение дерева с помощью рекурсивной функции\n",
    "\n",
    "def build_tree(data, values, probs, max_depth=3, min_samples_leaf=5):\n",
    "\n",
    "    gain, t, index = find_best_split(data, values, probs, min_samples_leaf)\n",
    "\n",
    "    #  Базовый случай - прекращаем рекурсию, когда нет прироста в качества\n",
    "    if (gain == 0) or (max_depth == 0):\n",
    "        return Leaf(data, values, probs)\n",
    "\n",
    "    true_data, false_data, true_values, false_values, true_probs, false_probs = split(data, values, probs, index, t)\n",
    "\n",
    "    # Рекурсивно строим два поддерева\n",
    "    true_branch = build_tree(true_data, true_values, true_probs, max_depth-1, min_samples_leaf)\n",
    "    false_branch = build_tree(false_data, false_values, false_probs, max_depth-1, min_samples_leaf)\n",
    "    \n",
    "    \n",
    "    # Возвращаем класс узла со всеми поддеревьями\n",
    "    return Node(index, t, true_branch, false_branch)\n",
    "\n",
    "def predict_object(obj, node):\n",
    "\n",
    "    #  Останавливаем рекурсию, если достигли листа\n",
    "    if isinstance(node, Leaf):\n",
    "        return node.prediction\n",
    "\n",
    "    if obj[node.index] <= node.t:\n",
    "        return predict_object(obj, node.true_branch)\n",
    "    else:\n",
    "        return predict_object(obj, node.false_branch)\n",
    "    \n",
    "def predict(data, tree):\n",
    "    \n",
    "    predictions = []\n",
    "    for obj in data:\n",
    "        prediction = predict_object(obj, tree)\n",
    "        predictions.append(prediction)\n",
    "    return predictions"
   ]
  },
  {
   "cell_type": "markdown",
   "metadata": {},
   "source": [
    "Функция для расчета остатков стандартная."
   ]
  },
  {
   "cell_type": "code",
   "execution_count": 139,
   "metadata": {},
   "outputs": [],
   "source": [
    "def residual(y, z):\n",
    "    return y - z"
   ]
  },
  {
   "cell_type": "markdown",
   "metadata": {},
   "source": [
    "Реализуем функции для обучения и предсказания. Отметим, что значения, которые выдает функцию `gb_predict` являются lod_odds, то есть для получения конечных вероятностей их "
   ]
  },
  {
   "cell_type": "code",
   "execution_count": 140,
   "metadata": {},
   "outputs": [],
   "source": [
    "def gb_fit_stochastic(n_trees, max_depth, X_train, y_train, eta, min_samples_leaf=5, positive_class=1,\n",
    "                      subsample=0.5):\n",
    "    \n",
    "    # Деревья будем записывать в список\n",
    "    trees = []\n",
    "    \n",
    "    n_observations = X_train.shape[0]\n",
    "    \n",
    "    for i in range(n_trees):\n",
    "        \n",
    "        # Выбираем случайную подвыборку для обучения\n",
    "        sample_index = np.random.choice(np.arange(n_observations), size=int(round(n_observations*subsample, 0)),\n",
    "                                        replace=False)\n",
    "\n",
    "#         target = gb_predict(X_train, y_train, trees, eta, positive_class)\n",
    "#         probs = np.exp(target) / (1 + np.exp(target))\n",
    "        probs = gb_predict(X_train, y_train, trees, eta, positive_class)\n",
    "        tree = build_tree(X_train[sample_index], residual(y_train[sample_index], probs[sample_index]), \n",
    "                          probs[sample_index], max_depth, min_samples_leaf)\n",
    "        \n",
    "\n",
    "        trees.append(tree)\n",
    "        \n",
    "    return trees"
   ]
  },
  {
   "cell_type": "code",
   "execution_count": 141,
   "metadata": {},
   "outputs": [],
   "source": [
    "def gb_predict(X, y, trees_list, eta, positive_class=1):\n",
    "    # Реализуемый алгоритм градиентного бустинга будет инициализироваться log_odds для обучающей выборки\n",
    "    \n",
    "    initial_prediction = np.array([np.log(y[y == positive_class].shape[0] / \n",
    "                                          y[y != positive_class].shape[0])] * X.shape[0])\n",
    "\n",
    "    if trees_list:\n",
    "        predictions = initial_prediction + sum([eta * np.array(predict(X, alg)) for alg in trees_list])\n",
    "    else:\n",
    "        predictions = initial_prediction\n",
    "\n",
    "    probs = np.exp(predictions) / (1 + np.exp(predictions))\n",
    "        \n",
    "    return probs"
   ]
  },
  {
   "cell_type": "code",
   "execution_count": 59,
   "metadata": {},
   "outputs": [
    {
     "name": "stdout",
     "output_type": "stream",
     "text": [
      "n_trees = 30, max_depth = 3, eta = 0.05, min_samples_leaf = 5 : train - 0.823489, test - 0.810264\n",
      "n_trees = 30, max_depth = 3, eta = 0.05, min_samples_leaf = 7 : train - 0.823087, test - 0.818362\n",
      "n_trees = 30, max_depth = 3, eta = 0.1, min_samples_leaf = 5 : train - 0.847592, test - 0.837475\n",
      "n_trees = 30, max_depth = 3, eta = 0.1, min_samples_leaf = 7 : train - 0.848535, test - 0.838394\n",
      "n_trees = 30, max_depth = 3, eta = 0.15, min_samples_leaf = 5 : train - 0.858895, test - 0.845711\n",
      "n_trees = 30, max_depth = 3, eta = 0.15, min_samples_leaf = 7 : train - 0.860001, test - 0.848649\n",
      "n_trees = 30, max_depth = 5, eta = 0.05, min_samples_leaf = 5 : train - 0.862518, test - 0.833899\n",
      "n_trees = 30, max_depth = 5, eta = 0.05, min_samples_leaf = 7 : train - 0.858835, test - 0.836103\n",
      "n_trees = 30, max_depth = 5, eta = 0.1, min_samples_leaf = 5 : train - 0.877200, test - 0.841951\n",
      "n_trees = 30, max_depth = 5, eta = 0.1, min_samples_leaf = 7 : train - 0.875054, test - 0.847710\n",
      "n_trees = 30, max_depth = 5, eta = 0.15, min_samples_leaf = 5 : train - 0.884540, test - 0.842201\n",
      "n_trees = 30, max_depth = 5, eta = 0.15, min_samples_leaf = 7 : train - 0.881108, test - 0.847190\n",
      "n_trees = 50, max_depth = 3, eta = 0.05, min_samples_leaf = 5 : train - 0.841123, test - 0.832190\n",
      "n_trees = 50, max_depth = 3, eta = 0.05, min_samples_leaf = 7 : train - 0.845765, test - 0.834644\n",
      "n_trees = 50, max_depth = 3, eta = 0.1, min_samples_leaf = 5 : train - 0.860727, test - 0.852090\n",
      "n_trees = 50, max_depth = 3, eta = 0.1, min_samples_leaf = 7 : train - 0.863048, test - 0.849701\n",
      "n_trees = 50, max_depth = 3, eta = 0.15, min_samples_leaf = 5 : train - 0.866758, test - 0.851440\n",
      "n_trees = 50, max_depth = 3, eta = 0.15, min_samples_leaf = 7 : train - 0.865243, test - 0.849914\n",
      "n_trees = 50, max_depth = 5, eta = 0.05, min_samples_leaf = 5 : train - 0.875258, test - 0.848509\n",
      "n_trees = 50, max_depth = 5, eta = 0.05, min_samples_leaf = 7 : train - 0.874383, test - 0.849524\n",
      "n_trees = 50, max_depth = 5, eta = 0.1, min_samples_leaf = 5 : train - 0.883473, test - 0.848407\n",
      "n_trees = 50, max_depth = 5, eta = 0.1, min_samples_leaf = 7 : train - 0.883655, test - 0.851554\n",
      "n_trees = 50, max_depth = 5, eta = 0.15, min_samples_leaf = 5 : train - 0.890085, test - 0.842363\n",
      "n_trees = 50, max_depth = 5, eta = 0.15, min_samples_leaf = 7 : train - 0.892072, test - 0.841411\n",
      "n_trees = 75, max_depth = 3, eta = 0.05, min_samples_leaf = 5 : train - 0.856562, test - 0.846894\n",
      "n_trees = 75, max_depth = 3, eta = 0.05, min_samples_leaf = 7 : train - 0.856101, test - 0.845645\n",
      "n_trees = 75, max_depth = 3, eta = 0.1, min_samples_leaf = 5 : train - 0.868743, test - 0.855752\n",
      "n_trees = 75, max_depth = 3, eta = 0.1, min_samples_leaf = 7 : train - 0.867338, test - 0.854151\n",
      "n_trees = 75, max_depth = 3, eta = 0.15, min_samples_leaf = 5 : train - 0.873123, test - 0.850403\n",
      "n_trees = 75, max_depth = 3, eta = 0.15, min_samples_leaf = 7 : train - 0.869914, test - 0.854629\n",
      "n_trees = 75, max_depth = 5, eta = 0.05, min_samples_leaf = 5 : train - 0.882396, test - 0.851398\n",
      "n_trees = 75, max_depth = 5, eta = 0.05, min_samples_leaf = 7 : train - 0.882383, test - 0.848887\n",
      "n_trees = 75, max_depth = 5, eta = 0.1, min_samples_leaf = 5 : train - 0.893609, test - 0.841032\n",
      "n_trees = 75, max_depth = 5, eta = 0.1, min_samples_leaf = 7 : train - 0.889883, test - 0.850120\n",
      "n_trees = 75, max_depth = 5, eta = 0.15, min_samples_leaf = 5 : train - 0.900528, test - 0.837798\n",
      "n_trees = 75, max_depth = 5, eta = 0.15, min_samples_leaf = 7 : train - 0.899564, test - 0.832656\n"
     ]
    }
   ],
   "source": [
    "n_trees = [30, 50, 75]\n",
    "max_depth = [3, 5]\n",
    "eta = [0.05, 0.1, 0.15]\n",
    "leafs = [5, 7]\n",
    "\n",
    "for n in n_trees:\n",
    "    for depth in max_depth:\n",
    "        for lr in eta:\n",
    "            for leaf in leafs:\n",
    "                hand_model_stochastic = gb_fit_stochastic(n_trees=n, max_depth=depth, \n",
    "                                                          X_train=Z_train, y_train=y_train, eta=lr, \n",
    "                                                          min_samples_leaf=leaf)\n",
    "                probs_train = gb_predict(Z_train, y_train, hand_model_stochastic, eta=lr)\n",
    "    #             probs_train = np.exp(target_train) / (1 + np.exp(target_train))\n",
    "                probs_test = gb_predict(Z_test, y_train, hand_model_stochastic, eta=lr)\n",
    "    #             probs_test = np.exp(target_test) / (1 + np.exp(target_test))\n",
    "                print(f'n_trees = {n}, max_depth = {depth}, eta = {lr}, min_samples_leaf = {leaf} : '\n",
    "                      f'train - {roc_auc(y_train, probs_train):6f}, test - {roc_auc(y_test, probs_test):6f}')"
   ]
  },
  {
   "cell_type": "markdown",
   "metadata": {},
   "source": [
    "Рассчитаем результаты для нестандартизованной выборки для сравнения."
   ]
  },
  {
   "cell_type": "code",
   "execution_count": 142,
   "metadata": {},
   "outputs": [
    {
     "name": "stdout",
     "output_type": "stream",
     "text": [
      "train - 0.861675, test - 0.849857\n"
     ]
    }
   ],
   "source": [
    "hand_model_stochastic = gb_fit_stochastic(n_trees=50, max_depth=3, \n",
    "                                                          X_train=XX_train, y_train=y_train, eta=0.1, \n",
    "                                                          min_samples_leaf=5)\n",
    "probs_train = gb_predict(XX_train, y_train, hand_model_stochastic, eta=lr)\n",
    "probs_test = gb_predict(XX_test, y_train, hand_model_stochastic, eta=lr)\n",
    "print(f'train - {roc_auc(y_train, probs_train):6f}, test - {roc_auc(y_test, probs_test):6f}')"
   ]
  },
  {
   "cell_type": "markdown",
   "metadata": {},
   "source": [
    "Как видим при определенных гиперпараметрах удается несколько улучшить результаты, полученные для модели логистической регрессии."
   ]
  },
  {
   "cell_type": "markdown",
   "metadata": {},
   "source": [
    "## 8. Итоговая модель <a class=\"anchor\" id=\"final_model\"></a>"
   ]
  },
  {
   "cell_type": "markdown",
   "metadata": {},
   "source": [
    "Рассчитаем итоговую модель на основе стохастического градиентного бустинга и сделаем предсказания. Удалим еще признак `english`, так как его показатель взаимной информации с целевой переменной был также довольно маленьким."
   ]
  },
  {
   "cell_type": "code",
   "execution_count": 168,
   "metadata": {},
   "outputs": [],
   "source": [
    "ZZ_train = X_train.copy()\n",
    "ZZ_test = X_test.copy()\n",
    "\n",
    "ZZ_train.drop(columns=['Id', 'age', 'history', 'geography', 'english'], inplace=True)\n",
    "ZZ_test.drop(columns=['Id', 'age', 'history', 'geography', 'english'], inplace=True)\n",
    "    \n",
    "ZZ_train = ZZ_train.to_numpy()\n",
    "ZZ_test = ZZ_test.to_numpy()"
   ]
  },
  {
   "cell_type": "code",
   "execution_count": 173,
   "metadata": {},
   "outputs": [
    {
     "name": "stdout",
     "output_type": "stream",
     "text": [
      "train - 0.861107, test - 0.852120\n"
     ]
    }
   ],
   "source": [
    "model_final = gb_fit_stochastic(n_trees=50, max_depth=3, X_train=ZZ_train, y_train=y_train, eta=0.1, \n",
    "                                min_samples_leaf=5)\n",
    "probs_train = gb_predict(ZZ_train, y_train, model_final, eta=0.1)\n",
    "probs_test = gb_predict(ZZ_test, y_train, model_final, eta=0.1)\n",
    "print(f'train - {roc_auc(y_train, probs_train):6f}, test - {roc_auc(y_test, probs_test):6f}')"
   ]
  },
  {
   "cell_type": "code",
   "execution_count": 174,
   "metadata": {},
   "outputs": [
    {
     "data": {
      "text/plain": [
       "array([[2.00e+00, 2.70e+03, 3.00e+00, 0.00e+00, 0.00e+00, 0.00e+00,\n",
       "        9.00e+01],\n",
       "       [6.00e+00, 1.80e+03, 2.00e+00, 1.00e+00, 1.00e+00, 0.00e+00,\n",
       "        7.10e+01],\n",
       "       [2.00e+00, 1.20e+03, 1.00e+00, 0.00e+00, 0.00e+00, 0.00e+00,\n",
       "        4.50e+01],\n",
       "       [4.00e+00, 2.95e+03, 3.00e+00, 1.00e+00, 0.00e+00, 0.00e+00,\n",
       "        9.20e+01],\n",
       "       [3.00e+00, 1.40e+03, 2.00e+00, 1.00e+00, 0.00e+00, 0.00e+00,\n",
       "        5.80e+01]])"
      ]
     },
     "execution_count": 174,
     "metadata": {},
     "output_type": "execute_result"
    }
   ],
   "source": [
    "df_test = pd.read_csv('test.csv')\n",
    "df_test.drop(columns=['Id', 'age', 'history', 'geography', 'english'], inplace=True)\n",
    "    \n",
    "TEST = df_test.to_numpy()\n",
    "TEST[:5]"
   ]
  },
  {
   "cell_type": "code",
   "execution_count": 175,
   "metadata": {},
   "outputs": [],
   "source": [
    "submit_answers_proba = gb_predict(TEST, y_train, model_final, eta=0.1)\n",
    "sample_submission = pd.read_csv('sample_submission.csv')\n",
    "sample_submission['choose'] = submit_answers_proba\n",
    "sample_submission.to_csv('submit.csv', index=False)"
   ]
  },
  {
   "cell_type": "markdown",
   "metadata": {},
   "source": [
    "## Приложение <a class=\"anchor\" id=\"supplement\"></a>"
   ]
  },
  {
   "cell_type": "markdown",
   "metadata": {},
   "source": [
    "### AdaBoost <a class=\"anchor\" id=\"ada\"></a>"
   ]
  },
  {
   "cell_type": "markdown",
   "metadata": {},
   "source": [
    "Дополнительно попробовал реализовать модель AdaBoost, но не получилось улучшить результаты стохастического градиентного бустинга. Возможно есть ошибка при расчете вероятностей."
   ]
  },
  {
   "cell_type": "code",
   "execution_count": 184,
   "metadata": {},
   "outputs": [],
   "source": [
    "# Реализуем класс узла\n",
    "\n",
    "class Node:\n",
    "    \n",
    "    def __init__(self, index, t, true_branch, false_branch):\n",
    "        self.index = index  # индекс признака, по которому ведется сравнение с порогом в этом узле\n",
    "        self.t = t  # значение порога\n",
    "        self.true_branch = true_branch  # поддерево, удовлетворяющее условию в узле\n",
    "        self.false_branch = false_branch  # поддерево, не удовлетворяющее условию в узле\n",
    "\n",
    "# И класс терминального узла (листа)\n",
    "\n",
    "class Leaf:\n",
    "    \n",
    "    def __init__(self, data, labels, weights, positive_class=1):\n",
    "        self.data = data\n",
    "        self.labels = labels\n",
    "        self.weights = weights\n",
    "        self.positive_class = positive_class\n",
    "        self.prediction = self.predict()\n",
    "        self.pred_proba = self.predict_proba()\n",
    "        \n",
    "    def predict(self):\n",
    "        # подсчет количества объектов разных классов\n",
    "        classes = {}  # сформируем словарь \"класс: количество объектов\"\n",
    "        for i in range(len(self.labels)):\n",
    "            if self.labels[i] not in classes:\n",
    "                classes[self.labels[i]] = 0\n",
    "            classes[self.labels[i]] += self.weights[i]\n",
    "            \n",
    "        # найдем класс, количество объектов которого будет максимальным в этом листе и вернем его    \n",
    "        prediction = max(classes, key=classes.get)\n",
    "        return prediction\n",
    "    \n",
    "    def predict_proba(self):\n",
    "        \n",
    "        classes = {}\n",
    "        for i in range(len(self.labels)):\n",
    "            if self.labels[i] not in classes:\n",
    "                classes[self.labels[i]] = 0\n",
    "            classes[self.labels[i]] += self.weights[i]\n",
    "            \n",
    "        return classes.get(self.positive_class, 0) / sum(classes.values())\n",
    "\n",
    "\n",
    "    \n",
    "def weighted_gini(labels, weights):\n",
    "    #  подсчет количества объектов разных классов\n",
    "    classes = {}\n",
    "    for i in range(len(labels)):\n",
    "        if labels[i] not in classes:\n",
    "            classes[labels[i]] = 0\n",
    "        classes[labels[i]] += weights[i]\n",
    "    \n",
    "    #  расчет критерия\n",
    "    impurity = 1\n",
    "    for label in classes:\n",
    "        p = classes[label] / sum(classes.values())\n",
    "        impurity -= p ** 2\n",
    "        \n",
    "    return impurity\n",
    "\n",
    "\n",
    "# Расчет прироста\n",
    "\n",
    "def gain(left_labels, right_labels, left_weights, right_weights, root_gini):\n",
    "\n",
    "    # доля выборки, ушедшая в левое поддерево\n",
    "    p = float(left_labels.shape[0]) / (left_labels.shape[0] + right_labels.shape[0])\n",
    "    \n",
    "    return root_gini - p * weighted_gini(left_labels, left_weights) - (1 - p) * weighted_gini(right_labels, right_weights)\n",
    "\n",
    "# Разбиение датасета в узле\n",
    "\n",
    "def split(data, labels, weights, column_index, t):\n",
    "    \n",
    "    left = np.where(data[:, column_index] <= t)\n",
    "    right = np.where(data[:, column_index] > t)\n",
    "        \n",
    "    true_data = data[left]\n",
    "    false_data = data[right]\n",
    "    \n",
    "    true_labels = labels[left]\n",
    "    false_labels = labels[right]\n",
    "    \n",
    "    true_weights = weights[left]\n",
    "    false_weights = weights[right]\n",
    "        \n",
    "    return true_data, false_data, true_labels, false_labels, true_weights, false_weights\n",
    "\n",
    "\n",
    "# Нахождение наилучшего разбиения\n",
    "\n",
    "def find_best_split(data, labels, weights):\n",
    "    \n",
    "    root_gini = weighted_gini(labels, weights)\n",
    "\n",
    "    best_gain = 0\n",
    "    best_t = None\n",
    "    best_index = None\n",
    "    \n",
    "    n_features = data.shape[1]\n",
    "    \n",
    "    for index in range(n_features):\n",
    "        # будем проверять только уникальные значения признака, исключая повторения\n",
    "        t_values = np.unique(data[:, index])\n",
    "        \n",
    "        for t in t_values:\n",
    "            true_data, false_data, true_labels, false_labels, true_weights, false_weights = split(data, labels, weights, index, t)\n",
    "            \n",
    "            current_gain = gain(true_labels, false_labels, true_weights, false_weights, root_gini)\n",
    "            \n",
    "            #  выбираем порог, на котором получается максимальный прирост качества\n",
    "            if current_gain > best_gain:\n",
    "                best_gain, best_t, best_index = current_gain, t, index\n",
    "\n",
    "    return best_gain, best_t, best_index\n",
    "\n",
    "# Построение дерева с помощью рекурсивной функции\n",
    "\n",
    "def build_tree(data, labels, weights, max_depth=1):\n",
    "\n",
    "    gain, t, index = find_best_split(data, labels, weights)\n",
    "\n",
    "    #  Базовый случай - прекращаем рекурсию, когда нет прироста в качестве, или же мы достигли максимальной глубины\n",
    "    if (gain == 0) or (max_depth == 0):\n",
    "        return Leaf(data, labels, weights)\n",
    "\n",
    "    true_data, false_data, true_labels, false_labels, true_weights, false_weights = split(data, labels, weights, index, t)\n",
    "\n",
    "    # Рекурсивно строим два поддерева, уменьшаем параметр max_depth на 1\n",
    "    true_branch = build_tree(true_data, true_labels, true_weights, max_depth-1)\n",
    "    false_branch = build_tree(false_data, false_labels, false_weights, max_depth-1)\n",
    "    \n",
    "    \n",
    "    # Возвращаем класс узла со всеми поддеревьями\n",
    "    return Node(index, t, true_branch, false_branch)\n",
    "\n",
    "\n",
    "def classify_object(obj, node):\n",
    "\n",
    "    #  Останавливаем рекурсию, если достигли листа\n",
    "    if isinstance(node, Leaf):\n",
    "        return node.prediction\n",
    "\n",
    "    if obj[node.index] <= node.t:\n",
    "        return classify_object(obj, node.true_branch)\n",
    "    else:\n",
    "        return classify_object(obj, node.false_branch)\n",
    "    \n",
    "def predict(data, tree):\n",
    "    \n",
    "    classes = []\n",
    "    for obj in data:\n",
    "        prediction = classify_object(obj, tree)\n",
    "        classes.append(prediction)\n",
    "    return classes\n",
    "\n",
    "def get_proba_object(obj, node):\n",
    "\n",
    "    #  Останавливаем рекурсию, если достигли листа\n",
    "    if isinstance(node, Leaf):\n",
    "        return node.pred_proba\n",
    "\n",
    "    if obj[node.index] <= node.t:\n",
    "        return get_proba_object(obj, node.true_branch)\n",
    "    else:\n",
    "        return get_proba_object(obj, node.false_branch)\n",
    "\n",
    "\n",
    "def predict_proba(data, tree):\n",
    "    \n",
    "    probas = []\n",
    "    for obj in data:\n",
    "        prob = get_proba_object(obj, tree)\n",
    "        probas.append(prob)\n",
    "    return probas\n",
    "\n",
    "def amount_of_say(x):\n",
    "    return 1/2 * np.log((1 - x) / x)\n",
    "\n",
    "def ab_predict(X, trees, alphas):\n",
    "    \n",
    "    predictions = []\n",
    "    for tree in trees:\n",
    "        predictions.append(predict(X, tree))\n",
    "\n",
    "    # сформируем список с предсказаниями для каждого объекта\n",
    "    predictions_per_object = list(zip(*predictions))\n",
    "        \n",
    "    final_predictions = []\n",
    "    for obj in predictions_per_object:\n",
    "        classes = {}\n",
    "        for i in range(len(obj)):\n",
    "            if obj[i] not in classes:\n",
    "                    classes[obj[i]] = 0\n",
    "            classes[obj[i]] += alphas[i]\n",
    "        final_predictions.append(max(classes, key=classes.get))\n",
    "    \n",
    "\n",
    "    return final_predictions\n",
    "\n",
    "def ab_fit(n_trees, X_train, y_train, positive_class=1):\n",
    "    \n",
    "    # Деревья будем записывать в список\n",
    "    trees = []\n",
    "    alphas = []\n",
    "    \n",
    "    weights = np.array([1/X_train.shape[0]] * X_train.shape[0])\n",
    "    \n",
    "    \n",
    "    for i in range(n_trees):\n",
    "        \n",
    "        tree = build_tree(X_train, y_train, weights, max_depth=1)\n",
    "        predictions = np.array(predict(X_train, tree))\n",
    "        wrong_predictions = predictions != y_train\n",
    "        error = sum(weights[wrong_predictions])\n",
    "        alpha = amount_of_say(error)\n",
    "        weights[wrong_predictions] *= np.exp(alpha)\n",
    "        weights[~wrong_predictions] *= np.exp(-alpha)\n",
    "        weights /= sum(weights)\n",
    "        \n",
    "        trees.append(tree)\n",
    "        alphas.append(alpha)\n",
    "\n",
    "        \n",
    "        \n",
    "    return trees, alphas\n",
    "\n",
    "\n",
    "def ab_predict_proba(X, trees, alphas, positive_class=1):\n",
    "    predictions = []\n",
    "    for tree in trees:\n",
    "        predictions.append(predict_proba(X, tree))\n",
    "        \n",
    "    alphas = np.array(alphas)\n",
    "    weights = np.ones(alphas.shape[0])\n",
    "\n",
    "    # сформируем список с предсказаниями для каждого объекта\n",
    "    predictions_per_object = list(zip(*predictions))\n",
    "\n",
    "\n",
    "    final_predictions = []\n",
    "    for obj in predictions_per_object:\n",
    "#         classes = {}\n",
    "#         for i in range(len(obj)):\n",
    "#             if obj[i] not in classes:\n",
    "#                 classes[obj[i]] = 0\n",
    "#             classes[obj[i]] += alphas[i]\n",
    "#         final_predictions.append(classes.get(positive_class, 0)/sum(classes.values()))\n",
    "        obj = np.array(obj)\n",
    "        w_pr_pos = np.array(sum(obj * weights) / sum(weights))\n",
    "        w_pr_not_pos = np.array(sum((1 - obj) * weights) / sum(weights))\n",
    "        final_predictions.append(np.exp(w_pr_pos) / (np.exp(w_pr_pos) + np.exp(w_pr_not_pos)))\n",
    "        \n",
    "    final_predictions = np.array(final_predictions)\n",
    "\n",
    "    return final_predictions"
   ]
  },
  {
   "cell_type": "code",
   "execution_count": 185,
   "metadata": {},
   "outputs": [
    {
     "name": "stdout",
     "output_type": "stream",
     "text": [
      "CPU times: user 1min 35s, sys: 482 ms, total: 1min 35s\n",
      "Wall time: 1min 36s\n"
     ]
    }
   ],
   "source": [
    "%%time\n",
    "ab_trees, alphas = ab_fit(n_trees=50, X_train=ZZ_train, y_train=y_train)"
   ]
  },
  {
   "cell_type": "code",
   "execution_count": 186,
   "metadata": {},
   "outputs": [
    {
     "data": {
      "text/plain": [
       "array([0.49230228, 0.49230228, 0.4942758 , ..., 0.4964858 , 0.49158959,\n",
       "       0.40410531])"
      ]
     },
     "execution_count": 186,
     "metadata": {},
     "output_type": "execute_result"
    }
   ],
   "source": [
    "ab_predict_proba(ZZ_train, ab_trees, alphas)"
   ]
  },
  {
   "cell_type": "code",
   "execution_count": 187,
   "metadata": {},
   "outputs": [
    {
     "data": {
      "text/plain": [
       "0.753459694219084"
      ]
     },
     "execution_count": 187,
     "metadata": {},
     "output_type": "execute_result"
    }
   ],
   "source": [
    "roc_auc(y_train, ab_predict_proba(ZZ_train, ab_trees, alphas))"
   ]
  },
  {
   "cell_type": "code",
   "execution_count": 188,
   "metadata": {},
   "outputs": [
    {
     "data": {
      "text/plain": [
       "0.7540390970916614"
      ]
     },
     "execution_count": 188,
     "metadata": {},
     "output_type": "execute_result"
    }
   ],
   "source": [
    "roc_auc(y_test, ab_predict_proba(ZZ_test, ab_trees, alphas))"
   ]
  }
 ],
 "metadata": {
  "kernelspec": {
   "display_name": "Python 3",
   "language": "python",
   "name": "python3"
  },
  "language_info": {
   "codemirror_mode": {
    "name": "ipython",
    "version": 3
   },
   "file_extension": ".py",
   "mimetype": "text/x-python",
   "name": "python",
   "nbconvert_exporter": "python",
   "pygments_lexer": "ipython3",
   "version": "3.8.6"
  }
 },
 "nbformat": 4,
 "nbformat_minor": 4
}
