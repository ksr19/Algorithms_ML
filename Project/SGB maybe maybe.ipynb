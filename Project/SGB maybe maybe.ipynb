{
 "cells": [
  {
   "cell_type": "code",
   "execution_count": 33,
   "metadata": {},
   "outputs": [],
   "source": [
    "import numpy as np\n",
    "from sklearn.ensemble import GradientBoostingClassifier"
   ]
  },
  {
   "cell_type": "code",
   "execution_count": 34,
   "metadata": {},
   "outputs": [],
   "source": [
    "def residual(y, z):\n",
    "    return y - z"
   ]
  },
  {
   "cell_type": "code",
   "execution_count": 94,
   "metadata": {},
   "outputs": [],
   "source": [
    "def gb_predict(X, trees_list, eta):\n",
    "    # Реализуемый алгоритм градиентного бустинга будет инициализироваться нулевыми значениями,\n",
    "    # поэтому все деревья из списка trees_list уже являются дополнительными и при предсказании\n",
    "    # прибавляются с шагом eta\n",
    "\n",
    "    if trees_list:\n",
    "        predictions = sum([eta * np.array(predict(X, alg)) for alg in trees_list])\n",
    "    else:\n",
    "        predictions = 0\n",
    "\n",
    "    return predictions"
   ]
  },
  {
   "cell_type": "code",
   "execution_count": 95,
   "metadata": {},
   "outputs": [],
   "source": [
    "def gb_fit(n_trees, max_depth, X_train, y_train, eta, positive_class=1, min_samples_leaf=5):\n",
    "    \n",
    "    # Деревья будем записывать в список\n",
    "    trees = []\n",
    "    initial_prediction = np.array([np.log(y_train[y_train == positive_class].shape[0] / \n",
    "                               y_train[y_train != positive_class].shape[0])] * y_train.shape[0])\n",
    "    \n",
    "    for i in range(n_trees):\n",
    "\n",
    "        target = initial_prediction + gb_predict(X_train, trees, eta)\n",
    "        probs = np.exp(target) / (1 + np.exp(target))\n",
    "        tree = build_tree(X_train, residual(y_train, probs), probs, max_depth, min_samples_leaf)\n",
    "        \n",
    "\n",
    "        trees.append(tree)\n",
    "        \n",
    "    return trees"
   ]
  },
  {
   "cell_type": "code",
   "execution_count": 76,
   "metadata": {},
   "outputs": [],
   "source": [
    "# Реализуем класс узла\n",
    "\n",
    "class Node:\n",
    "    \n",
    "    def __init__(self, index, t, true_branch, false_branch):\n",
    "        self.index = index  # индекс признака, по которому ведется сравнение с порогом в этом узле\n",
    "        self.t = t  # значение порога\n",
    "        self.true_branch = true_branch  # поддерево, удовлетворяющее условию в узле\n",
    "        self.false_branch = false_branch  # поддерево, не удовлетворяющее условию в узле\n",
    "\n",
    "\n",
    "\n",
    "# И класс терминального узла (листа)\n",
    "\n",
    "class Leaf:\n",
    "    \n",
    "    def __init__(self, data, values, probs):\n",
    "        self.data = data\n",
    "        self.values = values\n",
    "        self.probs = probs\n",
    "        self.prediction = self.predict()\n",
    "        \n",
    "    def predict(self):\n",
    "        # Рассчитываем гамму\n",
    "        return np.sum(self.values) / np.sum([p*(1-p) for p in self.probs])\n",
    "\n",
    "\n",
    "# Расчет прироста\n",
    "\n",
    "def gain(left_values, right_values, root_var):\n",
    "\n",
    "    # доля выборки, ушедшая в левое поддерево\n",
    "    p = float(left_values.shape[0]) / (left_values.shape[0] + right_values.shape[0])\n",
    "    \n",
    "    return root_var - p * np.var(left_values) - (1 - p) * np.var(right_values)\n",
    "\n",
    "\n",
    "# Разбиение датасета в узле\n",
    "\n",
    "def split(data, values, probs, column_index, t):\n",
    "    \n",
    "    left = np.where(data[:, column_index] <= t)\n",
    "    right = np.where(data[:, column_index] > t)\n",
    "        \n",
    "    true_data = data[left]\n",
    "    false_data = data[right]\n",
    "    \n",
    "    true_values = values[left]\n",
    "    false_values = values[right]\n",
    "    \n",
    "    true_probs = probs[left]\n",
    "    false_probs = probs[right]\n",
    "        \n",
    "    return true_data, false_data, true_values, false_values, true_probs, false_probs\n",
    "\n",
    "\n",
    "\n",
    "# Нахождение наилучшего разбиения\n",
    "\n",
    "def find_best_split(data, values, probs, min_samples_leaf):\n",
    "\n",
    "    # В начальном узле, который будем делить, считаем дисперсию\n",
    "    root_var = np.var(values)\n",
    "\n",
    "    best_gain = 0\n",
    "    best_t = None\n",
    "    best_index = None\n",
    "    \n",
    "    n_features = data.shape[1]\n",
    "    \n",
    "    for index in range(n_features):\n",
    "        # будем проверять только уникальные значения признака, исключая повторения\n",
    "        t_values = np.unique(data[:, index])\n",
    "        \n",
    "        for t in t_values:\n",
    "            true_data, false_data, true_values, false_values, true_probs, false_probs = split(data, values, probs, index, t)\n",
    "            #  пропускаем разбиения, в которых в узле остается менее 5 объектов\n",
    "            if len(true_data) < min_samples_leaf or len(false_data) < min_samples_leaf:\n",
    "                continue\n",
    "            \n",
    "            current_gain = gain(true_values, false_values, root_var)\n",
    "            \n",
    "            #  выбираем порог, на котором получается максимальный прирост качества\n",
    "            if current_gain > best_gain:\n",
    "                best_gain, best_t, best_index = current_gain, t, index\n",
    "\n",
    "    return best_gain, best_t, best_index\n",
    "\n",
    "\n",
    "\n",
    "# Построение дерева с помощью рекурсивной функции\n",
    "\n",
    "def build_tree(data, values, probs, max_depth=3, min_samples_leaf=5):\n",
    "\n",
    "    gain, t, index = find_best_split(data, values, probs, min_samples_leaf)\n",
    "\n",
    "    #  Базовый случай - прекращаем рекурсию, когда нет прироста в качества\n",
    "    if (gain == 0) or (max_depth == 0):\n",
    "        return Leaf(data, values, probs)\n",
    "\n",
    "    true_data, false_data, true_values, false_values, true_probs, false_probs = split(data, values, probs, index, t)\n",
    "\n",
    "    # Рекурсивно строим два поддерева\n",
    "    true_branch = build_tree(true_data, true_values, true_probs, max_depth-1, min_samples_leaf)\n",
    "    false_branch = build_tree(false_data, false_values, false_probs, max_depth-1, min_samples_leaf)\n",
    "    \n",
    "    \n",
    "    # Возвращаем класс узла со всеми поддеревьями\n",
    "    return Node(index, t, true_branch, false_branch)\n",
    "\n",
    "def predict_object(obj, node):\n",
    "\n",
    "    #  Останавливаем рекурсию, если достигли листа\n",
    "    if isinstance(node, Leaf):\n",
    "        return node.prediction\n",
    "\n",
    "    if obj[node.index] <= node.t:\n",
    "        return predict_object(obj, node.true_branch)\n",
    "    else:\n",
    "        return predict_object(obj, node.false_branch)\n",
    "    \n",
    "def predict(data, tree):\n",
    "    \n",
    "    predictions = []\n",
    "    for obj in data:\n",
    "        prediction = predict_object(obj, tree)\n",
    "        predictions.append(prediction)\n",
    "    return predictions"
   ]
  },
  {
   "cell_type": "code",
   "execution_count": 109,
   "metadata": {},
   "outputs": [],
   "source": [
    "from sklearn.datasets import make_classification\n",
    "from sklearn.model_selection import train_test_split\n",
    "from sklearn.metrics import accuracy_score, roc_auc_score\n",
    "\n",
    "X, y = make_classification(n_samples=10000, n_features=4, n_informative=4, n_classes=2, n_redundant=0, \n",
    "                           n_clusters_per_class=1, random_state=42)"
   ]
  },
  {
   "cell_type": "code",
   "execution_count": 110,
   "metadata": {},
   "outputs": [
    {
     "name": "stdout",
     "output_type": "stream",
     "text": [
      "Train -  0.9886394511349922\n",
      "Test -  0.982067377547222\n"
     ]
    }
   ],
   "source": [
    "X_train, X_test, y_train, y_test = train_test_split(X, y, test_size=0.2, random_state=42)\n",
    "model = GradientBoostingClassifier(random_state=42)\n",
    "model.fit(X_train, y_train)\n",
    "y_pred_train = model.predict_proba(X_train)\n",
    "y_pred = model.predict_proba(X_test)\n",
    "print('Train - ', roc_auc_score(y_train, y_pred_train[:, 1]))\n",
    "print('Test - ', roc_auc_score(y_test, y_pred[:, 1]))"
   ]
  },
  {
   "cell_type": "code",
   "execution_count": 111,
   "metadata": {},
   "outputs": [],
   "source": [
    "hand_model = gb_fit(n_trees=100, max_depth=3, X_train=X_train, y_train=y_train, eta=0.1)"
   ]
  },
  {
   "cell_type": "code",
   "execution_count": null,
   "metadata": {},
   "outputs": [],
   "source": []
  },
  {
   "cell_type": "code",
   "execution_count": 112,
   "metadata": {},
   "outputs": [
    {
     "data": {
      "text/plain": [
       "0.988409690666531"
      ]
     },
     "execution_count": 112,
     "metadata": {},
     "output_type": "execute_result"
    }
   ],
   "source": [
    "target = np.array([np.log(y_train[y_train == 1].shape[0] / \n",
    "                               y_train[y_train != 1].shape[0])] * y_train.shape[0]) + gb_predict(X_train, hand_model, eta=0.1)\n",
    "probs = np.exp(target) / (1 + np.exp(target))\n",
    "roc_auc_score(y_train, probs)"
   ]
  },
  {
   "cell_type": "code",
   "execution_count": null,
   "metadata": {},
   "outputs": [],
   "source": []
  },
  {
   "cell_type": "code",
   "execution_count": 113,
   "metadata": {},
   "outputs": [
    {
     "data": {
      "text/plain": [
       "0.9820183444008148"
      ]
     },
     "execution_count": 113,
     "metadata": {},
     "output_type": "execute_result"
    }
   ],
   "source": [
    "target = np.array([np.log(y_test[y_test == 1].shape[0] / \n",
    "                               y_test[y_test != 1].shape[0])] * y_test.shape[0]) + gb_predict(X_test, hand_model, eta=0.1)\n",
    "probs = np.exp(target) / (1 + np.exp(target))\n",
    "roc_auc_score(y_test, probs)"
   ]
  },
  {
   "cell_type": "code",
   "execution_count": null,
   "metadata": {},
   "outputs": [],
   "source": []
  }
 ],
 "metadata": {
  "kernelspec": {
   "display_name": "Python 3",
   "language": "python",
   "name": "python3"
  },
  "language_info": {
   "codemirror_mode": {
    "name": "ipython",
    "version": 3
   },
   "file_extension": ".py",
   "mimetype": "text/x-python",
   "name": "python",
   "nbconvert_exporter": "python",
   "pygments_lexer": "ipython3",
   "version": "3.8.6"
  }
 },
 "nbformat": 4,
 "nbformat_minor": 4
}
